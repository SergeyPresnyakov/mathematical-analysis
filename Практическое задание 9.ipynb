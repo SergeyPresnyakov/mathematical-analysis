{
 "cells": [
  {
   "cell_type": "markdown",
   "metadata": {
    "id": "aU5YNMH9kVqP"
   },
   "source": [
    "## Практическое задание 9"
   ]
  },
  {
   "cell_type": "markdown",
   "metadata": {
    "id": "SmdURZ_OkVqQ"
   },
   "source": [
    "__1.__ Исследовать сходимость ряда. \n",
    "\n",
    "\n",
    "### $$\\frac{1}{2\\sqrt2}+\\frac{1}{3\\sqrt3}+\\,...\\,+\\frac{1}{(n+1)\\sqrt{n+1}}+\\,...\\,=\\sum\\limits_{n=1}^{+\\infty}\\frac{1}{(n+1)\\sqrt{n+1}}$$\n",
    "\n",
    "(*) Двумя различными признаками.\n",
    "##### Первый способ - второй признак сравнения\n",
    "\n",
    "Это сравнение со степенным рядом $O\\Bigr(\\frac{1}{n^p}\\Bigl)$\n",
    "помним, что:\n",
    "- если степень $p>1$, то ряд сходится. \n",
    "- во всех остальных случаях расходится.\n",
    "\n",
    "### $$\\sum\\limits_{n=1}^{+\\infty}\\frac{1}{(n+1)\\sqrt{n+1}}=\\sum\\limits_{n=1}^{+\\infty}\\frac{1}{(n+1)^{\\frac{3}{2}}}$$\n",
    "### $\\frac{3}{2}>1$, следовательно ряд сходиться\n",
    "\n",
    "##### Второй способ - Интегральный признак Коши - если мы сможем посчитать этот интеграл, то ряд сходится."
   ]
  },
  {
   "cell_type": "code",
   "execution_count": 1,
   "metadata": {},
   "outputs": [
    {
     "data": {
      "image/png": "[encoded data removed]",
      "text/latex": [
       "$\\displaystyle \\left(x + 1\\right)^{-1.5}$"
      ],
      "text/plain": [
       "       -1.5\n",
       "(x + 1)    "
      ]
     },
     "execution_count": 1,
     "metadata": {},
     "output_type": "execute_result"
    }
   ],
   "source": [
    "from sympy import *\n",
    "init_printing()\n",
    "x=Symbol('x')\n",
    "f=1/(x+1)**(3/2)\n",
    "f"
   ]
  },
  {
   "cell_type": "code",
   "execution_count": 2,
   "metadata": {},
   "outputs": [
    {
     "data": {
      "image/png": "[encoded data removed]",
      "text/latex": [
       "$\\displaystyle 1.41421356237309$"
      ],
      "text/plain": [
       "1.41421356237309"
      ]
     },
     "execution_count": 2,
     "metadata": {},
     "output_type": "execute_result"
    }
   ],
   "source": [
    "integrate(f,(x, 1, +oo))"
   ]
  },
  {
   "cell_type": "markdown",
   "metadata": {},
   "source": [
    "Интеграл посчитали, следовательно ряд сходиться"
   ]
  },
  {
   "cell_type": "markdown",
   "metadata": {
    "id": "cECfCSANkVqR"
   },
   "source": [
    "__2.__ Исследовать сходимость ряда\n",
    "\n",
    "### $$\\frac{1000}{1!}+\\frac{1000^2}{2!}+\\,...\\,+\\frac{1000^n}{n!}+\\,...\\,=\\sum\\limits_{n=1}^{+\\infty}\\frac{1000^n}{n!}$$\n",
    "\n",
    "Воспользуемся признаком д’Аламбера\n",
    "При расмотрении предел:\n",
    "\n",
    "### $$\\lim_{n\\to +\\infty}\\frac{a_{n+1}}{a_{n}}=q$$\n",
    "помним, что:\n",
    "- если $q<1$, то ряд сходится;\n",
    "- если $q>1$, то ряд расходится;\n",
    "- если $q=1$, то признак д’Аламбера не работает\n",
    "\n",
    "Тогда:\n",
    "### $$\\lim_{n\\to +\\infty}\\frac{1000^{(n+1)}}{(n+1)!}:\\lim_{n\\to +\\infty}\\frac{1000^n}{n!}=\\lim_{n\\to +\\infty}\\frac{1000^n\\cdot1000\\cdot n!}{1000^n\\cdot n!(n+1)}=\\lim_{n\\to +\\infty}\\frac{1000}{n+1}=0$$\n",
    "### $0<1$, следовательно ряд сходится\n"
   ]
  },
  {
   "cell_type": "markdown",
   "metadata": {
    "id": "DFrjdtbHkVqS"
   },
   "source": [
    "__3*.__ Исследовать сходимость ряда\n",
    "\n",
    "### $$\\frac{2\\cdot1!}{1}+\\frac{2^2\\cdot2!}{2^2}+\\,...\\,+\\frac{2^n\\cdot n!}{n^n}+\\,...\\,=\\sum\\limits_{n=1}^{+\\infty}\\frac{2^n\\cdot n!}{n^n}$$\n",
    "\n",
    "### В третьем и четвертом задании доказываем, что $$\\lim_{n\\to +\\infty}\\frac{n!}{n^n}=\\lim_{n\\to +\\infty}\\frac{1\\cdot2\\cdot3\\cdot ... \\cdot n}{n\\cdot n\\cdot n\\cdot n\\cdot ... \\cdot n}=0$$\n",
    "#### Далее помня, что предел произведения равен произедению пределов находим, что пределы с 2n и 3n тоже равны 0. Далее используя признак д’Аламбера, понимаем, что q<1 и, следовательно ряды сходятся."
   ]
  },
  {
   "cell_type": "markdown",
   "metadata": {
    "id": "YozMoDrRHNlq"
   },
   "source": [
    "__4*.__ Исследовать сходимость ряда\n",
    "\n",
    "### $$\\frac{3\\cdot1!}{1}+\\frac{3^2\\cdot2!}{2^2}+\\,...\\,+\\frac{3^n\\cdot n!}{n^n}+\\,...\\,=\\sum\\limits_{n=1}^{+\\infty}\\frac{3^n\\cdot n!}{n^n}$$"
   ]
  },
  {
   "cell_type": "markdown",
   "metadata": {
    "id": "bkjyb6z9HNlq"
   },
   "source": [
    "__5*.__ Исследовать сходимость ряда\n",
    "\n",
    "Здесь мы имеем дело со знакопеременным рядом\n",
    "### $$-\\frac{\\sqrt1}{101}+\\frac{\\sqrt2}{102}-\\,...\\,+\\frac{(-1)^n\\sqrt n}{n+100}+\\,...\\,=\\sum\\limits_{n=1}^{+\\infty}\\frac{(-1)^n\\sqrt n}{n+100}$$\n",
    "По модулю $(-1)^n$ всегда равен 1. следовательно им можно пренебречь. Далее \n",
    "### $$\\lim_{n\\to +\\infty}\\frac{\\sqrt n}{n+100}=\\lim_{n\\to +\\infty}\\frac{\\sqrt n}{\\sqrt n\\cdot(\\sqrt n+\\frac{100}{\\sqrt n})}=\\lim_{n\\to +\\infty}\\frac{1}{\\sqrt n+\\frac{100}{\\sqrt n}}=0$$\n",
    "В данном примере главный член последовательности монотонно стремиться к 0, поэтому по признаку Лейбница, ряд сходиться."
   ]
  },
  {
   "cell_type": "markdown",
   "metadata": {
    "id": "ZMkUQVo1HNlr"
   },
   "source": [
    "__6*.__ Разложить функцию $y=e^x$ в ряд Маклорена, а так же в ряд Фурье на отрезке $[-\\pi, \\pi]$. Построить график функции и разложений."
   ]
  }
 ],
 "metadata": {
  "kernelspec": {
   "display_name": "Python 3",
   "language": "python",
   "name": "python3"
  },
  "language_info": {
   "codemirror_mode": {
    "name": "ipython",
    "version": 3
   },
   "file_extension": ".py",
   "mimetype": "text/x-python",
   "name": "python",
   "nbconvert_exporter": "python",
   "pygments_lexer": "ipython3",
   "version": "3.7.4"
  }
 },
 "nbformat": 4,
 "nbformat_minor": 2
}
