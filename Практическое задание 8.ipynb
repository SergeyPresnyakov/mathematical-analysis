{
 "cells": [
  {
   "cell_type": "markdown",
   "metadata": {
    "id": "aU5YNMH9kVqP"
   },
   "source": [
    "## Практическое задание 8"
   ]
  },
  {
   "cell_type": "code",
   "execution_count": 1,
   "metadata": {},
   "outputs": [],
   "source": [
    "from sympy import *\n",
    "init_printing()"
   ]
  },
  {
   "cell_type": "markdown",
   "metadata": {
    "id": "SmdURZ_OkVqQ"
   },
   "source": [
    "__1.__ Вычислить неопределенный интеграл\n",
    "\n",
    "### $$\\int \\frac{2x+3}{(x-2)(x+5)}\\,dx$$\n",
    "\n",
    "Сделаем замену:\n",
    "\n",
    "### $$(x-2)(x+5)=t\\,\\,\\,\\,\\,\\Rightarrow\\,\\,\\,\\,\\, t=x^2+3x-10\\,\\,\\,\\,\\,\\Rightarrow\\,\\,\\,\\,\\, dt=(2x+3)dx\\,\\,\\,\\,\\,\\Rightarrow\\,\\,\\,\\,\\,dx=\\frac{dt}{2x+3}$$\n",
    "\n",
    "Преобразуем наш интеграл:\n",
    "\n",
    "### $$\\int \\frac{2x+3}{(x-2)(x+5)}\\,dx=\\int \\frac{2x+3}{t}\\cdot\\frac{dt}{2x+3}=\\int \\frac{dt}{t}=\\ln|t|+C=\\ln|(x-2)(x+5)|+С$$\n",
    "\n",
    "### Проверим"
   ]
  },
  {
   "cell_type": "code",
   "execution_count": 2,
   "metadata": {},
   "outputs": [
    {
     "data": {
      "image/png": "[encoded data removed]",
      "text/latex": [
       "$\\displaystyle \\frac{2 x + 3}{\\left(x - 2\\right) \\left(x + 5\\right)}$"
      ],
      "text/plain": [
       "    2⋅x + 3    \n",
       "───────────────\n",
       "(x - 2)⋅(x + 5)"
      ]
     },
     "execution_count": 2,
     "metadata": {},
     "output_type": "execute_result"
    }
   ],
   "source": [
    "x=Symbol('x')\n",
    "f=(2*x+3)/((x-2)*(x+5))\n",
    "f"
   ]
  },
  {
   "cell_type": "code",
   "execution_count": 3,
   "metadata": {},
   "outputs": [
    {
     "data": {
      "image/png": "[encoded data removed]",
      "text/latex": [
       "$\\displaystyle \\log{\\left(x^{2} + 3 x - 10 \\right)}$"
      ],
      "text/plain": [
       "   ⎛ 2           ⎞\n",
       "log⎝x  + 3⋅x - 10⎠"
      ]
     },
     "execution_count": 3,
     "metadata": {},
     "output_type": "execute_result"
    }
   ],
   "source": [
    "integrate(f,x)"
   ]
  },
  {
   "cell_type": "markdown",
   "metadata": {},
   "source": [
    "Видим, что интеграл посчитан правильно"
   ]
  },
  {
   "cell_type": "markdown",
   "metadata": {
    "id": "cECfCSANkVqR"
   },
   "source": [
    "__2.__ Вычислить неопределенный интеграл\n",
    "\n",
    "### $$\\int e^{2x}\\cos 3x\\,dx$$\n",
    "\n",
    "\n",
    "### $$U=e^{2x}\\,\\,\\,\\,\\,\\Rightarrow\\,\\,\\,\\,\\, dU=2e^{2x}dx$$ \n",
    "### $$dV=\\cos{3x}dx\\,\\,\\,\\,\\,\\Rightarrow\\,\\,\\,\\,\\, V=\\frac{\\sin 3x}{3}$$ \n",
    "\n",
    "Тогда:\n",
    "\n",
    "### $$\\int e^{2x}\\cos 3x\\,dx=e^{2x}\\cdot\\frac{\\sin 3x}{3}-\\int\\frac{\\sin 3x}{\n",
    "3}\\cdot2e^{2x}dx$$ \n",
    "\n",
    "\n",
    "\n",
    "\n",
    "### $$\\frac{2}{3}\\int\\sin 3x\\cdot e^{2x}dx$$ \n",
    "\n",
    "### $$U=e^{2x}\\,\\,\\,\\,\\,\\Rightarrow\\,\\,\\,\\,\\, dU=2e^{2x}dx$$ \n",
    "### $$dV=\\frac{\\sin 3x}{3}dx\\,\\,\\,\\,\\,\\Rightarrow\\,\\,\\,\\,\\, V=-\\frac{\\cos 3x}{3}$$ \n",
    "\n",
    "Воспользуемся формулой ещё раз\n",
    "\n",
    "### $$\\frac{2}{3}\\int\\sin 3x\\cdot e^{2x}dx=2e^{2x}\\cdot\\Bigl(-\\frac{\\cos 3x}{9}\\Bigl)+\\int\\frac{\\cos 3x}{9}\\cdot4e^{2x}dx$$ \n",
    "\n",
    "\n",
    "\n",
    "Тогда:\n",
    "\n",
    "### $$\\int e^{2x}\\cos 3x\\,dx=e^{2x}\\cdot\\frac{\\sin 3x}{3}+2e^{2x}\\cdot\\frac{\\cos 3x}{9}-\\int\\frac{\\cos 3x}{9}\\cdot4e^{2x}dx$$\n",
    "\n",
    "Перенесем интеграл из правой части в левую\n",
    "\n",
    "### $$\\int e^{2x}\\cos 3x\\,dx+\\int\\frac{\\cos 3x}{9}\\cdot4e^{2x}dx=e^{2x}\\cdot\\frac{\\sin 3x}{3}+2e^{2x}\\cdot\\Bigl(\\frac{\\cos 3x}{9}\\Bigl)$$ \n",
    "\n",
    "### $$\\frac{13}{9}\\int e^{2x}\\cos 3x\\,dx=\\frac{3e^{2x}\\sin 3x+2e^{2x}\\cos 3x}{9}$$\n",
    "\n",
    "### $$\\int e^{2x}\\cos 3x\\,dx=\\frac{3e^{2x}\\sin 3x+2e^{2x}\\cos 3x}{13}$$\n",
    "\n",
    "### Проверим"
   ]
  },
  {
   "cell_type": "code",
   "execution_count": 4,
   "metadata": {},
   "outputs": [
    {
     "data": {
      "image/png": "[encoded data removed]",
      "text/latex": [
       "$\\displaystyle e^{2 x} \\cos{\\left(3 x \\right)}$"
      ],
      "text/plain": [
       " 2⋅x         \n",
       "ℯ   ⋅cos(3⋅x)"
      ]
     },
     "execution_count": 4,
     "metadata": {},
     "output_type": "execute_result"
    }
   ],
   "source": [
    "x=Symbol('x')\n",
    "f=exp(2*x)*cos(3*x)\n",
    "f"
   ]
  },
  {
   "cell_type": "code",
   "execution_count": 5,
   "metadata": {},
   "outputs": [
    {
     "data": {
      "image/png": "[encoded data removed]",
      "text/latex": [
       "$\\displaystyle \\frac{3 e^{2 x} \\sin{\\left(3 x \\right)}}{13} + \\frac{2 e^{2 x} \\cos{\\left(3 x \\right)}}{13}$"
      ],
      "text/plain": [
       "   2⋅x               2⋅x         \n",
       "3⋅ℯ   ⋅sin(3⋅x)   2⋅ℯ   ⋅cos(3⋅x)\n",
       "─────────────── + ───────────────\n",
       "       13                13      "
      ]
     },
     "execution_count": 5,
     "metadata": {},
     "output_type": "execute_result"
    }
   ],
   "source": [
    "integrate(f,x)"
   ]
  },
  {
   "cell_type": "markdown",
   "metadata": {},
   "source": [
    "Видим, что интеграл посчитан правильно"
   ]
  },
  {
   "cell_type": "markdown",
   "metadata": {
    "id": "DFrjdtbHkVqS"
   },
   "source": [
    "__3.__ Вычислить определенный интеграл\n",
    "\n",
    "### $$\\int\\limits_0^{\\ln2} xe^{-x}\\,dx$$\n",
    "\n",
    "### $$U=x\\,\\,\\,\\,\\,\\Rightarrow\\,\\,\\,\\,\\, dU=dx$$ \n",
    "### $$dV=e^{-x}\\,\\,\\,\\,\\,\\Rightarrow\\,\\,\\,\\,\\, V=-e^{-x}$$ \n",
    "\n",
    "Тогда:\n",
    "\n",
    "### $$\\int\\limits_0^{\\ln2} xe^{-x}\\,dx=-xe^{-x} -\\int\\limits_0^{\\ln2} e^{-x}dx=-xe^{-x}-e^{-x}\\bigg|_0^{\\ln2}=-\\frac{\\ln 2-1}{2}+1$$\n",
    "\n",
    "### Проверим"
   ]
  },
  {
   "cell_type": "code",
   "execution_count": 6,
   "metadata": {},
   "outputs": [
    {
     "data": {
      "image/png": "[encoded data removed]",
      "text/latex": [
       "$\\displaystyle x e^{- x}$"
      ],
      "text/plain": [
       "   -x\n",
       "x⋅ℯ  "
      ]
     },
     "execution_count": 6,
     "metadata": {},
     "output_type": "execute_result"
    }
   ],
   "source": [
    "x=Symbol('x')\n",
    "f=x*exp(-x)\n",
    "f"
   ]
  },
  {
   "cell_type": "code",
   "execution_count": 7,
   "metadata": {},
   "outputs": [
    {
     "data": {
      "image/png": "[encoded data removed]",
      "text/latex": [
       "$\\displaystyle \\frac{1}{2} - \\frac{\\log{\\left(2 \\right)}}{2}$"
      ],
      "text/plain": [
       "1   log(2)\n",
       "─ - ──────\n",
       "2     2   "
      ]
     },
     "execution_count": 7,
     "metadata": {},
     "output_type": "execute_result"
    }
   ],
   "source": [
    "integrate(f,(x, 0, ln(2)))"
   ]
  },
  {
   "cell_type": "markdown",
   "metadata": {},
   "source": [
    "Видим, что интеграл посчитан правильно"
   ]
  },
  {
   "cell_type": "markdown",
   "metadata": {
    "id": "8WjM7zpH4RyM"
   },
   "source": [
    "__4.__ Вычислить несобственный интеграл\n",
    "\n",
    "### $$\\int\\limits_2^{+\\infty} \\frac{dx}{x^2+x-2}$$\n",
    "\n",
    "### $$\\frac{1}{x^2+x-2}=\\frac{1}{(x+2)(x-1)}=\\frac{A}{(x+2)}+\\frac{B}{(x-1)}=\\frac{A(x+2)+B(x-1)}{(x+2)(x-1)}$$\n",
    "### $$A(x+2)+B(x-1)=Ax+2A+Bx-B=1$$\n",
    "### $$\\begin{cases}\n",
    "    Ax+Bx=0 \\\\\n",
    "    2A-B=1\\\\\n",
    "    \\end{cases}$$\n",
    "\n",
    "### $$\\begin{cases}\n",
    "    A=\\frac{1}{3} \\\\\n",
    "    B=-\\frac{1}{3}\\\\\n",
    "    \\end{cases}$$\n",
    "    \n",
    "### $$\\frac{1}{x^2+x-2}=\\frac{\\frac{1}{3}}{x-1}+\\frac{-\\frac{1}{3}}{x+2}$$  \n",
    "Тогда:\n",
    "\n",
    "### $$\\int\\limits_2^{+\\infty}\\frac{dx}{x^2+x-2}=\\frac{1}{3}\\int\\limits_2^{+\\infty}\\frac{1}{x-1}dx-\\frac{1}{3}\\int\\limits_2^{+\\infty}\\frac{1}{x+2}$$\n",
    "### $$\\frac{1}{3}\\int\\limits_2^{b}\\frac{1}{x-1}dx=\\frac{1}{3}\\lim_{b\\to +\\infty}\\int\\limits_2^{b}\\frac{1}{x-1}dx=\\lim_{b\\to +\\infty}\\frac{\\ln(b-1)}{3}-\\frac{\\ln(0)}{3}$$\n",
    "### $$\\frac{1}{3}\\int\\limits_2^{b}\\frac{1}{x+2}dx=\\frac{1}{3}\\lim_{b\\to +\\infty}\\int\\limits_2^{b}\\frac{1}{x+2}dx=\\lim_{b\\to +\\infty}\\frac{\\ln(b+2)}{3}-\\frac{\\ln(4)}{3}$$\n",
    "\n",
    "### $$\\int\\limits_2^{+\\infty}\\frac{dx}{x^2+x-2}=\\lim_{b\\to +\\infty}\\frac{\\ln(b-1)}{3}-\\frac{\\ln(0)}{3}-\\lim_{b\\to +\\infty}\\frac{\\ln(b+2)}{3}+\\frac{\\ln(4)}{3}=\\frac{\\ln(4)}{3}$$\n",
    "\n",
    "### Проверим"
   ]
  },
  {
   "cell_type": "code",
   "execution_count": 8,
   "metadata": {},
   "outputs": [
    {
     "data": {
      "image/png": "[encoded data removed]",
      "text/latex": [
       "$\\displaystyle \\frac{1}{x^{2} + x - 2}$"
      ],
      "text/plain": [
       "    1     \n",
       "──────────\n",
       " 2        \n",
       "x  + x - 2"
      ]
     },
     "execution_count": 8,
     "metadata": {},
     "output_type": "execute_result"
    }
   ],
   "source": [
    "x=Symbol('x')\n",
    "f=1/(x**2+x-2)\n",
    "f"
   ]
  },
  {
   "cell_type": "code",
   "execution_count": 9,
   "metadata": {},
   "outputs": [
    {
     "data": {
      "image/png": "[encoded data removed]",
      "text/latex": [
       "$\\displaystyle \\frac{\\log{\\left(4 \\right)}}{3}$"
      ],
      "text/plain": [
       "log(4)\n",
       "──────\n",
       "  3   "
      ]
     },
     "execution_count": 9,
     "metadata": {},
     "output_type": "execute_result"
    }
   ],
   "source": [
    "integrate(f,(x, 2, +oo))"
   ]
  },
  {
   "cell_type": "markdown",
   "metadata": {},
   "source": [
    "Видим, что интеграл посчитан правильно"
   ]
  },
  {
   "cell_type": "markdown",
   "metadata": {
    "id": "cuLCvoBm4RyO"
   },
   "source": [
    "__5*.__ Вычислить несобственный интеграл\n",
    "\n",
    "### $$\\int\\limits_0^{1} \\ln x\\,dx$$"
   ]
  }
 ],
 "metadata": {
  "kernelspec": {
   "display_name": "Python 3",
   "language": "python",
   "name": "python3"
  },
  "language_info": {
   "codemirror_mode": {
    "name": "ipython",
    "version": 3
   },
   "file_extension": ".py",
   "mimetype": "text/x-python",
   "name": "python",
   "nbconvert_exporter": "python",
   "pygments_lexer": "ipython3",
   "version": "3.7.4"
  }
 },
 "nbformat": 4,
 "nbformat_minor": 2
}
