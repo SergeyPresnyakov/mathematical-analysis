{
 "cells": [
  {
   "cell_type": "markdown",
   "metadata": {
    "id": "aU5YNMH9kVqP"
   },
   "source": [
    "## Практическое задание 7"
   ]
  },
  {
   "cell_type": "code",
   "execution_count": 1,
   "metadata": {},
   "outputs": [],
   "source": [
    "from sympy import *\n",
    "import math\n",
    "import pandas as pd\n",
    "init_printing()\n",
    "import numpy as np"
   ]
  },
  {
   "cell_type": "markdown",
   "metadata": {
    "id": "SmdURZ_OkVqQ"
   },
   "source": [
    "__1.__ Исследовать на условный экстремум функцию\n",
    "\n",
    "### $$U=3-8x+6y,$$\n",
    "\n",
    "если\n",
    "\n",
    "### $$x^2+y^2=36$$\n",
    "\n",
    "\n",
    "Составим функцию Лагранжа:\n",
    "\n",
    "### $$L(x,y,\\lambda)=3-8x+6y +\\lambda \\cdot (x^2+y^2-36)$$\n",
    "\n",
    "Найдем частные производные, приравняем их к нулю и решим систему уравнений:\n",
    "\n",
    "### $$\\begin{cases}\n",
    "   L'_{x}=2x\\lambda-8=0, \\\\\n",
    "   L'_{y}=2y\\lambda+6=0, \\\\\n",
    "   L'_{\\lambda}=x^2+y^2-36=0\n",
    " \\end{cases}$$"
   ]
  },
  {
   "cell_type": "markdown",
   "metadata": {
    "id": "SmdURZ_OkVqQ"
   },
   "source": [
    "Выразит из первого уравнения $y$, из второго $x$ и подставим всё в третье:\n",
    "### $$\\begin{cases}\n",
    "   x=\\frac{4}{\\lambda}, \\\\\n",
    "   y=-\\frac{3}{\\lambda}, \\\\\n",
    "   \\Bigr(\\frac{4}{\\lambda}\\Bigl)^2+\\Bigr(-\\frac{3}{\\lambda}\\Bigl)^2=36\n",
    " \\end{cases}\\Rightarrow \n",
    " \\begin{cases}\n",
    "   x=\\frac{4}{\\lambda}, \\\\\n",
    "   y=-\\frac{3}{\\lambda}, \\\\\n",
    "   \\frac{25}{\\lambda^2}=36\n",
    " \\end{cases}\n",
    " \\Rightarrow \n",
    " \\begin{cases}\n",
    "   x=\\frac{4}{\\lambda}, \\\\\n",
    "   y=-\\frac{3}{\\lambda}, \\\\\n",
    "   \\lambda^2=\\frac{25}{36}\n",
    " \\end{cases}$$\n",
    " \n",
    "Получаем две точки: $\\Bigl(\\frac{24}{5},-\\frac{18}{5},\\frac{5}{6}\\Bigl)$ и $\\Bigl(-\\frac{24}{5},\\frac{18}{5},-\\frac{5}{6}\\Bigl)$\n",
    " \n",
    "Найдем вторые производные:\n",
    "### $$L''_{xx}=2\\lambda$$\n",
    "### $$L''_{yy}=2\\lambda$$\n",
    "### $$L''_{\\lambda \\lambda}=0$$\n",
    "### $$L''_{xy}=L''_{yx}=0$$\n",
    "### $$L''_{x\\lambda}=L''_{\\lambda x}=2x$$\n",
    "### $$L''_{y\\lambda}=L''_{\\lambda y}=2y$$ "
   ]
  },
  {
   "cell_type": "markdown",
   "metadata": {
    "id": "SmdURZ_OkVqQ"
   },
   "source": [
    "Составим матрицу Гёссе:\n",
    "### $$\\begin{pmatrix}\n",
    "L''_{\\lambda \\lambda} & L''_{\\lambda x} & L''_{\\lambda y}\\\\ \n",
    "L''_{x \\lambda} & L''_{xx} & L''_{xy}\\\\\n",
    "L''_{y \\lambda} & L''_{yx} & L''_{yy}\\\\\n",
    "\\end{pmatrix}\\Rightarrow\n",
    "\\begin{pmatrix}\n",
    "0 & 2x & 2y\\\\ \n",
    "2x & 2\\lambda & 0\\\\\n",
    "2y & 0 & 2\\lambda\\\\\n",
    "\\end{pmatrix}$$\n",
    "\n",
    "Далее найдем определитель в общем виде, а затем уже разберемся с каждой точкой.\n",
    "\n",
    "### $$\\Delta=\\begin{vmatrix}\n",
    "0 & 2x & 2y\\\\ \n",
    "2x & 2\\lambda & 0\\\\\n",
    "2y & 0 & 2\\lambda\\\\\n",
    "\\end{vmatrix}=\n",
    "\\begin{vmatrix}\n",
    "+ & - & +\\\\ \n",
    "- & + & -\\\\\n",
    "+ & - & +\\\\\n",
    "\\end{vmatrix}=0\\cdot\n",
    "\\begin{vmatrix}\n",
    "2\\lambda & 0\\\\\n",
    "0 & 2\\lambda\\\\\n",
    "\\end{vmatrix}-2x\\cdot\n",
    "\\begin{vmatrix}\n",
    "2x & 0\\\\\n",
    "2y & 2\\lambda\\\\\n",
    "\\end{vmatrix}+2y\\cdot\n",
    "\\begin{vmatrix}\n",
    "2x & 2\\lambda\\\\\n",
    "2y & 0\\\\\n",
    "\\end{vmatrix}=(-2x)\\cdot 4x\\lambda+2y \\cdot(-4y\\lambda)=-8\\lambda(x^2+y^2)$$\n",
    "\n",
    "По условию задачи $x^2+y^2=36$, тогда \n",
    "### $$\\Delta=-8\\lambda \\cdot 36 = -288\\lambda$$\n",
    "\n",
    "Т.е. знак определителя зависит только от знака $\\lambda$.\n",
    "\n",
    "Если $\\lambda=-\\frac{5}{6}$, то $\\Bigl(-\\frac{24}{5},\\frac{18}{5},-\\frac{5}{6}\\Bigl)$ - точка максимума.\n",
    "\n",
    "Если $\\lambda=\\frac{5}{6}$, $\\Bigl(\\frac{24}{5},-\\frac{18}{5},\\frac{5}{6}\\Bigl)$- точка минимума."
   ]
  },
  {
   "cell_type": "markdown",
   "metadata": {
    "id": "cECfCSANkVqR"
   },
   "source": [
    "__2.__ Исследовать на условный экстремум функцию\n",
    "\n",
    "### $$U=2x^2+12xy+32y^2+15,$$\n",
    "\n",
    "если\n",
    "\n",
    "### $$x^2+16y^2=64$$"
   ]
  },
  {
   "cell_type": "markdown",
   "metadata": {
    "id": "SmdURZ_OkVqQ"
   },
   "source": [
    "Составим функцию Лагранжа:\n",
    "\n",
    "### $$L(x,y,\\lambda)=2x^2+12xy+32y^2+15 +\\lambda \\cdot (x^2+16y^2-64)$$\n",
    "\n",
    "Найдем частные производные, приравняем их к нулю и решим систему уравнений:\n",
    "\n",
    "### $$\\begin{cases}\n",
    "   L'_{x}=4x+12y+2x\\lambda=0, \\\\\n",
    "   L'_{y}=12x+64y+32y\\lambda=0, \\\\\n",
    "   L'_{\\lambda}=x^2+16y^2-64=0\n",
    " \\end{cases}$$\n",
    " \n",
    "### $$\\begin{cases}\n",
    "   12y=-4x-2x\\lambda, \\\\\n",
    "   12x=-64y-32y\\lambda, \\\\\n",
    "   x^2+16y^2-64=0\n",
    " \\end{cases}$$ \n",
    " \n",
    "### $$\\begin{cases}\n",
    "   6y=-x(2+\\lambda), \\\\\n",
    "   3x=-8y(2+\\lambda), \\\\\n",
    "   x^2+16y^2-64=0\n",
    " \\end{cases}$$\n",
    " \n",
    "### $$\\begin{cases}\n",
    "   2+\\lambda=-\\frac{6y}{x}, \\\\\n",
    "   3x=-8y(2+\\lambda), \\\\\n",
    "   x^2+16y^2-64=0\n",
    " \\end{cases}$$ \n",
    "\n",
    "### $$\\begin{cases}\n",
    "   2+\\lambda=-\\frac{6y}{x}, \\\\\n",
    "   3x=-8y(-\\frac{6y}{x}), \\\\\n",
    "   x^2+16y^2-64=0\n",
    " \\end{cases}$$\n",
    " \n",
    "### $$\\begin{cases}\n",
    "   2+\\lambda=-\\frac{6y}{x}, \\\\\n",
    "   3x=\\frac{48y^2}{x}), \\\\\n",
    "   x^2+16y^2-64=0\n",
    " \\end{cases}$$ \n",
    "\n",
    "### $$\\begin{cases}\n",
    "   2+\\lambda=-\\frac{6y}{x}, \\\\\n",
    "   x^2=16y^2, \\\\\n",
    "   x^2+16y^2-64=0\n",
    " \\end{cases}$$ \n",
    "\n",
    "### $$\\begin{cases}\n",
    "   2+\\lambda=-\\frac{6y}{x}, \\\\\n",
    "   x^2=16y^2, \\\\\n",
    "   16y^2+16y^2=64\n",
    " \\end{cases}$$ \n",
    "\n",
    "### $$\\begin{cases}\n",
    "   \\lambda=-\\frac{6y}{x}-2, \\\\\n",
    "   x^2=16y^2, \\\\\n",
    "   y^2=2\n",
    " \\end{cases}$$ \n",
    "\n",
    "\n",
    "Получаем четыре точки:  \n",
    "$\\Bigl(-4\\sqrt 2,-\\sqrt 2,-\\frac{7}{2}\\Bigl)$  \n",
    "$\\Bigl(-4\\sqrt 2,\\sqrt 2,-\\frac{1}{2}\\Bigl)$  \n",
    "$\\Bigl(4\\sqrt 2,-\\sqrt 2,-\\frac{1}{2}\\Bigl)$  \n",
    "$\\Bigl(4\\sqrt 2,\\sqrt 2,-\\frac{7}{2}\\Bigl)$  "
   ]
  },
  {
   "cell_type": "markdown",
   "metadata": {
    "id": "SmdURZ_OkVqQ"
   },
   "source": [
    "Найдем вторые производные:\n",
    "### $$L''_{xx}=4+2\\lambda$$\n",
    "### $$L''_{yy}=64+32\\lambda$$\n",
    "### $$L''_{\\lambda \\lambda}=0$$\n",
    "### $$L''_{xy}=L''_{yx}=12$$\n",
    "### $$L''_{x\\lambda}=L''_{\\lambda x}=2x$$\n",
    "### $$L''_{y\\lambda}=L''_{\\lambda y}=32y$$ "
   ]
  },
  {
   "cell_type": "markdown",
   "metadata": {
    "id": "SmdURZ_OkVqQ"
   },
   "source": [
    "Составим матрицу Гёссе:\n",
    "### $$\\begin{pmatrix}\n",
    "L''_{\\lambda \\lambda} & L''_{\\lambda x} & L''_{\\lambda y}\\\\ \n",
    "L''_{x \\lambda} & L''_{xx} & L''_{xy}\\\\\n",
    "L''_{y \\lambda} & L''_{yx} & L''_{yy}\\\\\n",
    "\\end{pmatrix}\\Rightarrow\n",
    "\\begin{pmatrix}\n",
    "0 & 2x & 32y\\\\ \n",
    "2x & 4+2\\lambda & 12\\\\\n",
    "32y & 12 & 64+32\\lambda\\\\\n",
    "\\end{pmatrix}$$\n",
    "\n",
    "Далее найдем определитель в общем виде, а затем уже разберемся с каждой точкой.\n",
    "\n",
    "### $$\\Delta=\\begin{vmatrix}\n",
    "0 & 2x & 32y\\\\ \n",
    "2x & 4+2\\lambda & 12\\\\\n",
    "32y & 12 & 64+32\\lambda\\\\\n",
    "\\end{vmatrix}=\n",
    "\\begin{vmatrix}\n",
    "+ & - & +\\\\ \n",
    "- & + & -\\\\\n",
    "+ & - & +\\\\\n",
    "\\end{vmatrix}=0\\cdot\n",
    "\\begin{vmatrix}\n",
    "4+2\\lambda & 12\\\\\n",
    "12 & 64+32\\lambda\\\\\n",
    "\\end{vmatrix}-2x\\cdot\n",
    "\\begin{vmatrix}\n",
    "2x & 12\\\\\n",
    "32y & 64+32\\lambda\\\\\n",
    "\\end{vmatrix}+32y\\cdot\n",
    "\\begin{vmatrix}\n",
    "2x & 4+2\\lambda\\\\\n",
    "32y & 12\\\\\n",
    "\\end{vmatrix}=-2x\\cdot(2x\\cdot(64+32\\lambda)-32y\\cdot12)+32y\\cdot(2x\\cdot12-32y\\cdot(4+2\\lambda))$$\n",
    "\n",
    "По условию задачи $x^2+y^2=64$, тогда после преобразований получаем\n",
    "### $$\\Delta=3xy-16\\lambda-32$$\n",
    "\n",
    "Теперь определим точки минимума и максимума"
   ]
  },
  {
   "cell_type": "code",
   "execution_count": 2,
   "metadata": {
    "scrolled": true
   },
   "outputs": [
    {
     "name": "stdout",
     "output_type": "stream",
     "text": [
      "Определитель матрицы для рассматриваемой точки равен:  48.0000000000000\n",
      "'Точка 1' с координатами (-4*sqrt(2), -sqrt(2), -3.5) является локальным минимумом \n",
      "Определитель матрицы для рассматриваемой точки равен:  -48.0000000000000\n",
      "'Точка 2' с координатами (-4*sqrt(2), sqrt(2), -0.5) является локальным максимумом\n",
      "Определитель матрицы для рассматриваемой точки равен:  -48.0000000000000\n",
      "'Точка 3' с координатами (4*sqrt(2), -sqrt(2), -0.5) является локальным максимумом\n",
      "Определитель матрицы для рассматриваемой точки равен:  48.0000000000000\n",
      "'Точка 4' с координатами (4*sqrt(2), sqrt(2), -3.5) является локальным минимумом \n"
     ]
    }
   ],
   "source": [
    "roots = pd.DataFrame([\n",
    "    [\"Точка 1\", -4*sqrt(2), -sqrt(2), -7/2],\n",
    "    [\"Точка 2\", -4*sqrt(2), sqrt(2), -1/2],\n",
    "    [\"Точка 3\", 4*sqrt(2), -sqrt(2), -1/2],\n",
    "    [\"Точка 4\", 4*sqrt(2), sqrt(2), -7/2]\n",
    "])\n",
    "for r in range(len(roots)):\n",
    "    print(\"Определитель матрицы для рассматриваемой точки равен: \", 3*roots.loc[r][1]*roots.loc[r][2]-16*roots.loc[r][3]-32)\n",
    "    if (3*roots.loc[r][1]*roots.loc[r][2]-16*roots.loc[r][3]-32) < 0:\n",
    "        print(f\"'{roots.loc[r][0]}' с координатами {roots.loc[r][1], roots.loc[r][2], roots.loc[r][3]} является локальным максимумом\")\n",
    "    elif (3*roots.loc[r][1]*roots.loc[r][2]-16*roots.loc[r][3]-32) > 0:\n",
    "        print(f\"'{roots.loc[r][0]}' с координатами {roots.loc[r][1], roots.loc[r][2], roots.loc[r][3]} является локальным минимумом \")     "
   ]
  },
  {
   "cell_type": "markdown",
   "metadata": {
    "id": "DFrjdtbHkVqS"
   },
   "source": [
    "__3.__ Численно найти хотя бы один действительный корень системы нелинейных уравнений:\n",
    "### $$\\begin{cases}\n",
    "   x^2-y^2+3xy^3-2x^2y^2+2x-3y-5=0 \\\\\n",
    "   3y^3-2x^2+2x^3y-5x^2y^2+5=0\n",
    " \\end{cases}$$"
   ]
  },
  {
   "cell_type": "code",
   "execution_count": 3,
   "metadata": {
    "scrolled": true
   },
   "outputs": [
    {
     "name": "stdout",
     "output_type": "stream",
     "text": [
      "1.273302064528599 1.6620391224277693 1\n"
     ]
    }
   ],
   "source": [
    "from scipy.optimize import fsolve, broyden1\n",
    "import math\n",
    "\n",
    "def equations(p):\n",
    "    x, y = p\n",
    "    # Запись системы уравнения вида x+y=2, x-y=0\n",
    "    return (x**2-y**2+3*x*y**3-2*x**2*y**2+2*x-3*y-5, 3*y**3-2*x**2+2*x**3*y-5*x**2*y**2+5)\n",
    "\n",
    "# Численное решение системы уравнений\n",
    "(x, y), info, ier, mesg =  fsolve(equations, (10, 10), full_output=True)\n",
    "print (x, y, ier)"
   ]
  },
  {
   "cell_type": "markdown",
   "metadata": {},
   "source": [
    "### Проверим наши корни"
   ]
  },
  {
   "cell_type": "code",
   "execution_count": 4,
   "metadata": {},
   "outputs": [
    {
     "data": {
      "image/png": "[encoded data removed]",
      "text/latex": [
       "$\\displaystyle -1.071143174158351e-12$"
      ],
      "text/plain": [
       "-1.071143174158351e-12"
      ]
     },
     "execution_count": 4,
     "metadata": {},
     "output_type": "execute_result"
    }
   ],
   "source": [
    "x**2-y**2+3*x*y**3-2*x**2*y**2+2*x-3*y-5"
   ]
  },
  {
   "cell_type": "code",
   "execution_count": 5,
   "metadata": {},
   "outputs": [
    {
     "data": {
      "image/png": "[encoded data removed]",
      "text/latex": [
       "$\\displaystyle -1.1546319456101628e-12$"
      ],
      "text/plain": [
       "-1.1546319456101628e-12"
      ]
     },
     "execution_count": 5,
     "metadata": {},
     "output_type": "execute_result"
    }
   ],
   "source": [
    "3*y**3-2*x**2+2*x**3*y-5*x**2*y**2+5"
   ]
  },
  {
   "cell_type": "markdown",
   "metadata": {},
   "source": [
    "Видим, что при данных корнях выражения принимают значеия близкие к 0. Следовательно корни найдены правильно."
   ]
  },
  {
   "cell_type": "markdown",
   "metadata": {
    "id": "5la-eVLukVqT"
   },
   "source": [
    "__4*.__ Численно найти все $5$ действительных корней."
   ]
  },
  {
   "cell_type": "code",
   "execution_count": 7,
   "metadata": {
    "scrolled": false
   },
   "outputs": [
    {
     "name": "stderr",
     "output_type": "stream",
     "text": [
      "C:\\ProgramData\\Anaconda3\\lib\\site-packages\\ipykernel_launcher.py:7: RuntimeWarning: overflow encountered in long_scalars\n",
      "  import sys\n"
     ]
    }
   ],
   "source": [
    "from scipy.optimize import fsolve, broyden1\n",
    "import math\n",
    "\n",
    "def equations(p):\n",
    "    x, y = p\n",
    "    # Запись системы уравнения вида x+y=2, x-y=0\n",
    "    return (x**2-y**2+3*x*y**3-2*x**2*y**2+2*x-3*y-5, 3*y**3-2*x**2+2*x**3*y-5*x**2*y**2+5)\n",
    "\n",
    "# Численное решение системы уравнений\n",
    "solv = []\n",
    "for x in np.arange (-10000, 10000, 10):\n",
    "    (x, y), info, ier, mesg =  fsolve(equations, (x, x), full_output=True)\n",
    "#     print(x, y, ier)\n",
    "    if ier == 1:\n",
    "        solv.append([int(x*10**8)/10**8, int(y*10**8)/10**8])"
   ]
  },
  {
   "cell_type": "markdown",
   "metadata": {},
   "source": [
    "### Корни системы уравнений"
   ]
  },
  {
   "cell_type": "code",
   "execution_count": 8,
   "metadata": {},
   "outputs": [
    {
     "data": {
      "text/html": [
       "<div>\n",
       "<style scoped>\n",
       "    .dataframe tbody tr th:only-of-type {\n",
       "        vertical-align: middle;\n",
       "    }\n",
       "\n",
       "    .dataframe tbody tr th {\n",
       "        vertical-align: top;\n",
       "    }\n",
       "\n",
       "    .dataframe thead th {\n",
       "        text-align: right;\n",
       "    }\n",
       "</style>\n",
       "<table border=\"1\" class=\"dataframe\">\n",
       "  <thead>\n",
       "    <tr style=\"text-align: right;\">\n",
       "      <th></th>\n",
       "      <th>0</th>\n",
       "      <th>1</th>\n",
       "    </tr>\n",
       "  </thead>\n",
       "  <tbody>\n",
       "    <tr>\n",
       "      <th>0</th>\n",
       "      <td>1.375687</td>\n",
       "      <td>-0.174758</td>\n",
       "    </tr>\n",
       "    <tr>\n",
       "      <th>1</th>\n",
       "      <td>1.273302</td>\n",
       "      <td>1.662039</td>\n",
       "    </tr>\n",
       "    <tr>\n",
       "      <th>2</th>\n",
       "      <td>2.217754</td>\n",
       "      <td>0.610194</td>\n",
       "    </tr>\n",
       "    <tr>\n",
       "      <th>3</th>\n",
       "      <td>2.494357</td>\n",
       "      <td>0.708318</td>\n",
       "    </tr>\n",
       "    <tr>\n",
       "      <th>4</th>\n",
       "      <td>-3.653080</td>\n",
       "      <td>-0.274763</td>\n",
       "    </tr>\n",
       "  </tbody>\n",
       "</table>\n",
       "</div>"
      ],
      "text/plain": [
       "          0         1\n",
       "0  1.375687 -0.174758\n",
       "1  1.273302  1.662039\n",
       "2  2.217754  0.610194\n",
       "3  2.494357  0.708318\n",
       "4 -3.653080 -0.274763"
      ]
     },
     "execution_count": 8,
     "metadata": {},
     "output_type": "execute_result"
    }
   ],
   "source": [
    "roots=pd.DataFrame(solv)\n",
    "roots.drop_duplicates().reset_index(drop=True)"
   ]
  },
  {
   "cell_type": "markdown",
   "metadata": {
    "id": "jJT2pGWCxqBZ"
   },
   "source": [
    "__5*.__ Даны две функции $y_{1}=f(x)$ и $y_{2}=g(x)$. Известно, что:\n",
    "\n",
    "### $$f'(x)=\\frac{1}{2}g(x)$$\n",
    "\n",
    "### $$g'(x)=2-2f(x)$$\n",
    "\n",
    "### $$f(0)=0$$\n",
    "\n",
    "### $$g(0)=1$$\n",
    "\n",
    "Восстановить функции $y_{1}=f(x)$ и $y_{2}=g(x)$ с помощью формулы:\n",
    "\n",
    "### $$f(x+\\Delta x) \\approx f(x)+f'(x) \\cdot \\Delta x$$\n",
    "\n",
    "на участке $[0, 20]$\n",
    "\n",
    "В качестве решения построить график этих функций в одной системе координат.\n"
   ]
  },
  {
   "cell_type": "markdown",
   "metadata": {
    "id": "9ixsx4-KxqBa"
   },
   "source": [
    "__6**.__ Найти все корни уравнения:\n",
    "    \n",
    "### $$f(x)=g(x)$$\n",
    "\n",
    "на участке $[0, 20]$\n",
    "\n",
    "Где $y_{1}=f(x)$ и $y_{2}=g(x)$ - функции из предыдущего решения."
   ]
  }
 ],
 "metadata": {
  "kernelspec": {
   "display_name": "Python 3",
   "language": "python",
   "name": "python3"
  },
  "language_info": {
   "codemirror_mode": {
    "name": "ipython",
    "version": 3
   },
   "file_extension": ".py",
   "mimetype": "text/x-python",
   "name": "python",
   "nbconvert_exporter": "python",
   "pygments_lexer": "ipython3",
   "version": "3.7.4"
  }
 },
 "nbformat": 4,
 "nbformat_minor": 2
}
