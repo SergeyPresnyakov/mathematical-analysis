{
 "cells": [
  {
   "cell_type": "markdown",
   "metadata": {
    "id": "aU5YNMH9kVqP"
   },
   "source": [
    "#### Практическое задание 4"
   ]
  },
  {
   "cell_type": "code",
   "execution_count": 25,
   "metadata": {},
   "outputs": [],
   "source": [
    "from sympy import *\n",
    "import math\n",
    "import pandas as pd"
   ]
  },
  {
   "cell_type": "markdown",
   "metadata": {
    "id": "SmdURZ_OkVqQ"
   },
   "source": [
    "__1.__ Найти производную функции:\n",
    "\n",
    "### $$y=\\frac{1}{x}+\\frac{2}{x^2}-\\frac{5}{x^3}+\\sqrt x -\\sqrt[3]x+\\frac{3}{\\sqrt x}$$\n",
    "### $$\\Bigl(\\frac{1}{x}+\\frac{2}{x^2}-\\frac{5}{x^3}+\\sqrt x -\\sqrt[3]x+\\frac{3}{\\sqrt x}\\Bigl)'=-\\frac{1}{x^2}-\\frac{4}{x^3}+\\frac{15}{x^4}+\\frac{1}{2\\sqrt{x}} -\\frac{1}{3\\sqrt[3]{x^2}}-\\frac{3}{2\\sqrt{x^3}}$$\n",
    "### Проверим"
   ]
  },
  {
   "cell_type": "code",
   "execution_count": 26,
   "metadata": {},
   "outputs": [],
   "source": [
    "x=Symbol('x')"
   ]
  },
  {
   "cell_type": "code",
   "execution_count": 27,
   "metadata": {
    "scrolled": false
   },
   "outputs": [
    {
     "data": {
      "text/latex": [
       "$\\displaystyle - x^{0.333333333333333} + \\sqrt{x} + \\frac{1}{x} + \\frac{2}{x^{2}} - \\frac{5}{x^{3}} + \\frac{3}{\\sqrt{x}}$"
      ],
      "text/plain": [
       "-x**0.333333333333333 + sqrt(x) + 1/x + 2/x**2 - 5/x**3 + 3/sqrt(x)"
      ]
     },
     "execution_count": 27,
     "metadata": {},
     "output_type": "execute_result"
    }
   ],
   "source": [
    "f=1/x+2/(x**2)-5/x**3+sqrt(x) - (x ** (1/3))+3/sqrt(x)\n",
    "f"
   ]
  },
  {
   "cell_type": "code",
   "execution_count": 28,
   "metadata": {
    "scrolled": false
   },
   "outputs": [
    {
     "data": {
      "text/latex": [
       "$\\displaystyle - \\frac{0.333333333333333}{x^{0.666666666666667}} - \\frac{1}{x^{2}} - \\frac{4}{x^{3}} + \\frac{15}{x^{4}} + \\frac{1}{2 \\sqrt{x}} - \\frac{3}{2 x^{\\frac{3}{2}}}$"
      ],
      "text/plain": [
       "-0.333333333333333*x**(-0.666666666666667) - 1/x**2 - 4/x**3 + 15/x**4 + 1/(2*sqrt(x)) - 3/(2*x**(3/2))"
      ]
     },
     "execution_count": 28,
     "metadata": {},
     "output_type": "execute_result"
    }
   ],
   "source": [
    "diff(f,x)"
   ]
  },
  {
   "cell_type": "markdown",
   "metadata": {},
   "source": [
    "Видим, что производная найдена верно."
   ]
  },
  {
   "cell_type": "markdown",
   "metadata": {
    "id": "cECfCSANkVqR"
   },
   "source": [
    "__2.__ Найти производную функции:\n",
    "\n",
    "### $$y=x \\cdot \\sqrt {1+x^2}$$\n",
    "### $$\\Bigl(x \\cdot \\sqrt {1+x^2}\\Bigl)' = x'\\cdot \\sqrt {1+x^2}+x\\cdot\\Bigl(\\sqrt {1+x^2}\\Bigl)' =  1\\cdot \\sqrt {1+x^2}+x\\cdot\\frac1{2\\cdot\\sqrt {1+x^2}}\\cdot(1+x^2)'= \\sqrt {1+x^2}+x\\cdot\\frac1{2\\cdot\\sqrt {1+x^2}}\\cdot2x = \\sqrt{1+x^2}+\\frac{x^2}{\\sqrt{1+x^2}} = \\frac{2x^2+1}{\\sqrt{1+x^2}}$$\n",
    "### Проверим"
   ]
  },
  {
   "cell_type": "code",
   "execution_count": 29,
   "metadata": {
    "scrolled": false
   },
   "outputs": [],
   "source": [
    "f=x*sqrt(1+x**2)\n"
   ]
  },
  {
   "cell_type": "code",
   "execution_count": 30,
   "metadata": {
    "scrolled": false
   },
   "outputs": [
    {
     "data": {
      "text/latex": [
       "$\\displaystyle \\frac{x^{2}}{\\sqrt{x^{2} + 1}} + \\sqrt{x^{2} + 1}$"
      ],
      "text/plain": [
       "x**2/sqrt(x**2 + 1) + sqrt(x**2 + 1)"
      ]
     },
     "execution_count": 30,
     "metadata": {},
     "output_type": "execute_result"
    }
   ],
   "source": [
    "diff(f,x)"
   ]
  },
  {
   "cell_type": "markdown",
   "metadata": {},
   "source": [
    "Видим, что производная найдена верно."
   ]
  },
  {
   "cell_type": "markdown",
   "metadata": {
    "id": "DFrjdtbHkVqS"
   },
   "source": [
    "__3.__ Найти производную функции:\n",
    "\n",
    "### $$y= \\frac{2x}{1-x^2}$$\n",
    "### $$\\Bigl(\\frac{2x}{1-x^2}\\Bigl)' = \\frac{(2x)'\\cdot(1-x^2) - 2x\\cdot(1-x^2)'}{(1-x^2)^2} = \\frac{2\\cdot(1-x^2) - 2x\\cdot(-2x)}{(1-x^2)^2} = \\frac{2-2x^2 + 4x^2}{(1-x^2)^2} = \\frac{2(x^2+1)}{(1-x^2)^2}$$\n",
    "### Проверим"
   ]
  },
  {
   "cell_type": "code",
   "execution_count": 31,
   "metadata": {
    "scrolled": false
   },
   "outputs": [
    {
     "data": {
      "text/latex": [
       "$\\displaystyle \\frac{2 x}{1 - x^{2}}$"
      ],
      "text/plain": [
       "2*x/(1 - x**2)"
      ]
     },
     "execution_count": 31,
     "metadata": {},
     "output_type": "execute_result"
    }
   ],
   "source": [
    "f=2*x/(1-x**2)\n",
    "f"
   ]
  },
  {
   "cell_type": "code",
   "execution_count": 32,
   "metadata": {
    "scrolled": false
   },
   "outputs": [
    {
     "data": {
      "text/latex": [
       "$\\displaystyle \\frac{4 x^{2}}{\\left(1 - x^{2}\\right)^{2}} + \\frac{2}{1 - x^{2}}$"
      ],
      "text/plain": [
       "4*x**2/(1 - x**2)**2 + 2/(1 - x**2)"
      ]
     },
     "execution_count": 32,
     "metadata": {},
     "output_type": "execute_result"
    }
   ],
   "source": [
    "diff(f,x)"
   ]
  },
  {
   "cell_type": "markdown",
   "metadata": {},
   "source": [
    "Если сложить данные дроби, то получится найденное нами выражение. Таким образом видим, что производная найдена верно."
   ]
  },
  {
   "cell_type": "markdown",
   "metadata": {
    "id": "5la-eVLukVqT"
   },
   "source": [
    "__4*.__ Найти производную функции:\n",
    "\n",
    "### $$y=\\sqrt{x+ \\sqrt{x+\\sqrt x}}$$\n",
    "### $$\\Bigl(\\sqrt{x+ \\sqrt{x+\\sqrt x}}\\Bigl)' = \\frac{\\Bigl(x+\\sqrt{x+\\sqrt x}\\Bigl)'}{2\\cdot\\sqrt{x+ \\sqrt{x+\\sqrt x}}} = \\frac{1+\\Bigl(\\sqrt{x+\\sqrt x}\\Bigl)}{2\\cdot\\sqrt{x+ \\sqrt{x+\\sqrt x}}} = \\frac{1+\\frac{1 + \\frac1{2\\sqrt x}}{2\\cdot\\sqrt{x+\\sqrt x}}}{2\\cdot\\sqrt{x+\\sqrt{x+\\sqrt x}}} = $$"
   ]
  },
  {
   "cell_type": "markdown",
   "metadata": {
    "id": "kQlell_GkVqU"
   },
   "source": [
    "__5.__ Найти производную функции:\n",
    "\n",
    "### $$y= \\ln(x+\\sqrt{x^2+1})$$\n",
    "### $$(\\ln(x+\\sqrt{x^2+1}))'= \\frac1{x+\\sqrt{x^2+1}}\\cdot(x+\\sqrt{x^2+1})'=\\frac{(x+\\sqrt{x^2+1})'}{x+\\sqrt{x^2+1}} = \\frac{(x)'+(\\sqrt{x^2+1})'}{x+\\sqrt{x^2+1}} = \\frac{1+\\frac1{2\\cdot\\sqrt{x^2+1}}\\cdot(x^2+1)'}{x+\\sqrt{x^2+1}} = \\frac{1+\\frac{2x}{2\\cdot\\sqrt{x^2+1}}}{x+\\sqrt{x^2+1}} = \\frac{1+\\frac{x}{\\sqrt{x^2+1}}}{x+\\sqrt{x^2+1}}$$\n",
    "### Проверим"
   ]
  },
  {
   "cell_type": "code",
   "execution_count": 33,
   "metadata": {
    "scrolled": false
   },
   "outputs": [
    {
     "data": {
      "text/latex": [
       "$\\displaystyle \\log{\\left(x + \\sqrt{x^{2} + 1} \\right)}$"
      ],
      "text/plain": [
       "log(x + sqrt(x**2 + 1))"
      ]
     },
     "execution_count": 33,
     "metadata": {},
     "output_type": "execute_result"
    }
   ],
   "source": [
    "f=ln(x+sqrt(x**2+1))\n",
    "f"
   ]
  },
  {
   "cell_type": "code",
   "execution_count": 34,
   "metadata": {
    "scrolled": false
   },
   "outputs": [
    {
     "data": {
      "text/latex": [
       "$\\displaystyle \\frac{\\frac{x}{\\sqrt{x^{2} + 1}} + 1}{x + \\sqrt{x^{2} + 1}}$"
      ],
      "text/plain": [
       "(x/sqrt(x**2 + 1) + 1)/(x + sqrt(x**2 + 1))"
      ]
     },
     "execution_count": 34,
     "metadata": {},
     "output_type": "execute_result"
    }
   ],
   "source": [
    "diff(f,x)"
   ]
  },
  {
   "cell_type": "markdown",
   "metadata": {},
   "source": [
    "Видим, что производная найдена верно."
   ]
  },
  {
   "cell_type": "markdown",
   "metadata": {
    "id": "PE9L7NGakpje"
   },
   "source": [
    "__6.__ Найти производную функции:\n",
    "\n",
    "### $$y=x \\cdot \\ln(x+\\sqrt{x^2+1})-\\sqrt{x^2+1}$$\n",
    "### $$(x \\cdot \\ln(x+\\sqrt{x^2+1})-\\sqrt{x^2+1})' = (x \\cdot \\ln(x+\\sqrt{x^2+1}))'-(\\sqrt{x^2+1})' = (x)'\\cdot \\ln(x+\\sqrt{x^2+1}) + x\\cdot (\\ln(x+\\sqrt{x^2+1}))'-(\\sqrt{x^2+1})' = \\ln(x+\\sqrt{x^2+1}) + \\frac{x\\cdot\\Bigl(1+\\frac{x}{\\sqrt{x^2+1}}\\Bigl)}{x+\\sqrt{x^2+1}}-\\frac{x}{\\sqrt{x^2+1}}$$\n",
    "### Проверим"
   ]
  },
  {
   "cell_type": "code",
   "execution_count": 35,
   "metadata": {
    "scrolled": false
   },
   "outputs": [
    {
     "data": {
      "text/latex": [
       "$\\displaystyle x \\log{\\left(x + \\sqrt{x^{2} + 1} \\right)} - \\sqrt{x^{2} + 1}$"
      ],
      "text/plain": [
       "x*log(x + sqrt(x**2 + 1)) - sqrt(x**2 + 1)"
      ]
     },
     "execution_count": 35,
     "metadata": {},
     "output_type": "execute_result"
    }
   ],
   "source": [
    "f=x*ln(x+sqrt(x**2+1)) - sqrt(x**2+1)\n",
    "f"
   ]
  },
  {
   "cell_type": "code",
   "execution_count": 36,
   "metadata": {
    "scrolled": false
   },
   "outputs": [
    {
     "data": {
      "text/latex": [
       "$\\displaystyle - \\frac{x}{\\sqrt{x^{2} + 1}} + \\frac{x \\left(\\frac{x}{\\sqrt{x^{2} + 1}} + 1\\right)}{x + \\sqrt{x^{2} + 1}} + \\log{\\left(x + \\sqrt{x^{2} + 1} \\right)}$"
      ],
      "text/plain": [
       "-x/sqrt(x**2 + 1) + x*(x/sqrt(x**2 + 1) + 1)/(x + sqrt(x**2 + 1)) + log(x + sqrt(x**2 + 1))"
      ]
     },
     "execution_count": 36,
     "metadata": {},
     "output_type": "execute_result"
    }
   ],
   "source": [
    "diff(f,x)"
   ]
  },
  {
   "cell_type": "markdown",
   "metadata": {},
   "source": [
    "Видим, что производная найдена верно."
   ]
  },
  {
   "cell_type": "markdown",
   "metadata": {
    "id": "gYRW-ZQ5kpjf"
   },
   "source": [
    "__7*.__ Найти производную функции:\n",
    "\n",
    "### $$y=\\arcsin (\\sin x)$$\n",
    "### $$(\\arcsin (\\sin(x))' = \\frac1{\\sqrt{1-\\sin^2(x)}}\\cdot(\\sin(x))' \\frac{\\cos(x)}{\\sqrt{1-\\sin^2(x)}}$$"
   ]
  },
  {
   "cell_type": "code",
   "execution_count": 37,
   "metadata": {
    "scrolled": false
   },
   "outputs": [
    {
     "data": {
      "text/latex": [
       "$\\displaystyle \\operatorname{asin}{\\left(\\sin{\\left(x \\right)} \\right)}$"
      ],
      "text/plain": [
       "asin(sin(x))"
      ]
     },
     "execution_count": 37,
     "metadata": {},
     "output_type": "execute_result"
    }
   ],
   "source": [
    "f=asin(sin(x))\n",
    "f"
   ]
  },
  {
   "cell_type": "code",
   "execution_count": 38,
   "metadata": {
    "scrolled": false
   },
   "outputs": [
    {
     "data": {
      "text/latex": [
       "$\\displaystyle \\frac{\\cos{\\left(x \\right)}}{\\sqrt{1 - \\sin^{2}{\\left(x \\right)}}}$"
      ],
      "text/plain": [
       "cos(x)/sqrt(1 - sin(x)**2)"
      ]
     },
     "execution_count": 38,
     "metadata": {},
     "output_type": "execute_result"
    }
   ],
   "source": [
    "diff(f,x)"
   ]
  },
  {
   "cell_type": "markdown",
   "metadata": {},
   "source": [
    "Видим, что производная найдена верно."
   ]
  },
  {
   "cell_type": "markdown",
   "metadata": {
    "id": "SI1Z5F9_kpjg"
   },
   "source": [
    "__8*.__ Вычислить приближенное значение: \n",
    "\n",
    "### $$\\sin(1^0)=\\sin\\Bigl(\\frac{\\pi}{180}\\Bigr)$$\n",
    "Для решения используем формулу $$f(x+\\Delta x) \\approx f(x)+f'(x) \\cdot \\Delta x$$\n",
    "### $x=0$\n",
    "### $\\Delta x=\\frac{\\pi}{180}$\n",
    "### $f(x)=\\sin x=\\sin 0=0$\n",
    "### $f'(x)=\\cos x=\\cos 0=1$\n",
    "### $\\Delta x=\\frac{1\\cdot\\pi}{180}$\n",
    "### $\\sin(1^0)=0+1\\cdot\\frac{1\\cdot\\pi}{180}=\\frac{3.14}{180}=0.0174$\n"
   ]
  },
  {
   "cell_type": "markdown",
   "metadata": {
    "id": "bUIDNQ5rkpjh"
   },
   "source": [
    "__9**.__ Написать на python алгоритм, по вычислению значений $\\sin(x)$ для $х \\in[0, 30^0]$\n",
    "\n",
    "Для проверки подойдут данные из таблицы Брадиса\n",
    "\n",
    "\n",
    "Загрузим данные из таблицы Брадиса"
   ]
  },
  {
   "cell_type": "code",
   "execution_count": 39,
   "metadata": {},
   "outputs": [],
   "source": [
    "data = pd.read_csv('sin.csv', delimiter=' ')"
   ]
  },
  {
   "cell_type": "markdown",
   "metadata": {},
   "source": [
    "Посмотрим на рассчетные значения синусов углов от 0 до 30 градусов при привязке к 0 и к $\\pi/6$"
   ]
  },
  {
   "cell_type": "code",
   "execution_count": 40,
   "metadata": {},
   "outputs": [],
   "source": [
    "data_sin_1 = []\n",
    "data_sin_2 = []\n",
    "for a in range (1, 31):\n",
    "    data_sin_1.append(a*math.pi/180)\n",
    "    data_sin_2.append(0.5 - (3**(1/2))/2*(30-a)*math.pi/180)"
   ]
  },
  {
   "cell_type": "code",
   "execution_count": 41,
   "metadata": {
    "scrolled": true
   },
   "outputs": [
    {
     "data": {
      "text/html": [
       "<div>\n",
       "<style scoped>\n",
       "    .dataframe tbody tr th:only-of-type {\n",
       "        vertical-align: middle;\n",
       "    }\n",
       "\n",
       "    .dataframe tbody tr th {\n",
       "        vertical-align: top;\n",
       "    }\n",
       "\n",
       "    .dataframe thead th {\n",
       "        text-align: right;\n",
       "    }\n",
       "</style>\n",
       "<table border=\"1\" class=\"dataframe\">\n",
       "  <thead>\n",
       "    <tr style=\"text-align: right;\">\n",
       "      <th></th>\n",
       "      <th>Угол</th>\n",
       "      <th>Sin</th>\n",
       "      <th>experience_1</th>\n",
       "      <th>experience_2</th>\n",
       "      <th>difference_1</th>\n",
       "      <th>difference_2</th>\n",
       "    </tr>\n",
       "  </thead>\n",
       "  <tbody>\n",
       "    <tr>\n",
       "      <th>0</th>\n",
       "      <td>1</td>\n",
       "      <td>0.0175</td>\n",
       "      <td>0.017453</td>\n",
       "      <td>0.061665</td>\n",
       "      <td>-0.000047</td>\n",
       "      <td>0.044165</td>\n",
       "    </tr>\n",
       "    <tr>\n",
       "      <th>1</th>\n",
       "      <td>2</td>\n",
       "      <td>0.0349</td>\n",
       "      <td>0.034907</td>\n",
       "      <td>0.076780</td>\n",
       "      <td>0.000007</td>\n",
       "      <td>0.041880</td>\n",
       "    </tr>\n",
       "    <tr>\n",
       "      <th>2</th>\n",
       "      <td>3</td>\n",
       "      <td>0.0523</td>\n",
       "      <td>0.052360</td>\n",
       "      <td>0.091895</td>\n",
       "      <td>0.000060</td>\n",
       "      <td>0.039595</td>\n",
       "    </tr>\n",
       "    <tr>\n",
       "      <th>3</th>\n",
       "      <td>4</td>\n",
       "      <td>0.0698</td>\n",
       "      <td>0.069813</td>\n",
       "      <td>0.107010</td>\n",
       "      <td>0.000013</td>\n",
       "      <td>0.037210</td>\n",
       "    </tr>\n",
       "    <tr>\n",
       "      <th>4</th>\n",
       "      <td>5</td>\n",
       "      <td>0.0872</td>\n",
       "      <td>0.087266</td>\n",
       "      <td>0.122125</td>\n",
       "      <td>0.000066</td>\n",
       "      <td>0.034925</td>\n",
       "    </tr>\n",
       "    <tr>\n",
       "      <th>5</th>\n",
       "      <td>6</td>\n",
       "      <td>0.1045</td>\n",
       "      <td>0.104720</td>\n",
       "      <td>0.137240</td>\n",
       "      <td>0.000220</td>\n",
       "      <td>0.032740</td>\n",
       "    </tr>\n",
       "    <tr>\n",
       "      <th>6</th>\n",
       "      <td>7</td>\n",
       "      <td>0.1219</td>\n",
       "      <td>0.122173</td>\n",
       "      <td>0.152355</td>\n",
       "      <td>0.000273</td>\n",
       "      <td>0.030455</td>\n",
       "    </tr>\n",
       "    <tr>\n",
       "      <th>7</th>\n",
       "      <td>8</td>\n",
       "      <td>0.1392</td>\n",
       "      <td>0.139626</td>\n",
       "      <td>0.167470</td>\n",
       "      <td>0.000426</td>\n",
       "      <td>0.028270</td>\n",
       "    </tr>\n",
       "    <tr>\n",
       "      <th>8</th>\n",
       "      <td>9</td>\n",
       "      <td>0.1564</td>\n",
       "      <td>0.157080</td>\n",
       "      <td>0.182585</td>\n",
       "      <td>0.000680</td>\n",
       "      <td>0.026185</td>\n",
       "    </tr>\n",
       "    <tr>\n",
       "      <th>9</th>\n",
       "      <td>10</td>\n",
       "      <td>0.1736</td>\n",
       "      <td>0.174533</td>\n",
       "      <td>0.197700</td>\n",
       "      <td>0.000933</td>\n",
       "      <td>0.024100</td>\n",
       "    </tr>\n",
       "    <tr>\n",
       "      <th>10</th>\n",
       "      <td>11</td>\n",
       "      <td>0.1908</td>\n",
       "      <td>0.191986</td>\n",
       "      <td>0.212815</td>\n",
       "      <td>0.001186</td>\n",
       "      <td>0.022015</td>\n",
       "    </tr>\n",
       "    <tr>\n",
       "      <th>11</th>\n",
       "      <td>12</td>\n",
       "      <td>0.2079</td>\n",
       "      <td>0.209440</td>\n",
       "      <td>0.227930</td>\n",
       "      <td>0.001540</td>\n",
       "      <td>0.020030</td>\n",
       "    </tr>\n",
       "    <tr>\n",
       "      <th>12</th>\n",
       "      <td>13</td>\n",
       "      <td>0.2250</td>\n",
       "      <td>0.226893</td>\n",
       "      <td>0.243045</td>\n",
       "      <td>0.001893</td>\n",
       "      <td>0.018045</td>\n",
       "    </tr>\n",
       "    <tr>\n",
       "      <th>13</th>\n",
       "      <td>14</td>\n",
       "      <td>0.2419</td>\n",
       "      <td>0.244346</td>\n",
       "      <td>0.258160</td>\n",
       "      <td>0.002446</td>\n",
       "      <td>0.016260</td>\n",
       "    </tr>\n",
       "    <tr>\n",
       "      <th>14</th>\n",
       "      <td>15</td>\n",
       "      <td>0.2588</td>\n",
       "      <td>0.261799</td>\n",
       "      <td>0.273275</td>\n",
       "      <td>0.002999</td>\n",
       "      <td>0.014475</td>\n",
       "    </tr>\n",
       "    <tr>\n",
       "      <th>15</th>\n",
       "      <td>16</td>\n",
       "      <td>0.2756</td>\n",
       "      <td>0.279253</td>\n",
       "      <td>0.288390</td>\n",
       "      <td>0.003653</td>\n",
       "      <td>0.012790</td>\n",
       "    </tr>\n",
       "    <tr>\n",
       "      <th>16</th>\n",
       "      <td>17</td>\n",
       "      <td>0.2924</td>\n",
       "      <td>0.296706</td>\n",
       "      <td>0.303505</td>\n",
       "      <td>0.004306</td>\n",
       "      <td>0.011105</td>\n",
       "    </tr>\n",
       "    <tr>\n",
       "      <th>17</th>\n",
       "      <td>18</td>\n",
       "      <td>0.3090</td>\n",
       "      <td>0.314159</td>\n",
       "      <td>0.318620</td>\n",
       "      <td>0.005159</td>\n",
       "      <td>0.009620</td>\n",
       "    </tr>\n",
       "    <tr>\n",
       "      <th>18</th>\n",
       "      <td>19</td>\n",
       "      <td>0.3256</td>\n",
       "      <td>0.331613</td>\n",
       "      <td>0.333735</td>\n",
       "      <td>0.006013</td>\n",
       "      <td>0.008135</td>\n",
       "    </tr>\n",
       "    <tr>\n",
       "      <th>19</th>\n",
       "      <td>20</td>\n",
       "      <td>0.3420</td>\n",
       "      <td>0.349066</td>\n",
       "      <td>0.348850</td>\n",
       "      <td>0.007066</td>\n",
       "      <td>0.006850</td>\n",
       "    </tr>\n",
       "    <tr>\n",
       "      <th>20</th>\n",
       "      <td>21</td>\n",
       "      <td>0.3584</td>\n",
       "      <td>0.366519</td>\n",
       "      <td>0.363965</td>\n",
       "      <td>0.008119</td>\n",
       "      <td>0.005565</td>\n",
       "    </tr>\n",
       "    <tr>\n",
       "      <th>21</th>\n",
       "      <td>22</td>\n",
       "      <td>0.3746</td>\n",
       "      <td>0.383972</td>\n",
       "      <td>0.379080</td>\n",
       "      <td>0.009372</td>\n",
       "      <td>0.004480</td>\n",
       "    </tr>\n",
       "    <tr>\n",
       "      <th>22</th>\n",
       "      <td>23</td>\n",
       "      <td>0.3907</td>\n",
       "      <td>0.401426</td>\n",
       "      <td>0.394195</td>\n",
       "      <td>0.010726</td>\n",
       "      <td>0.003495</td>\n",
       "    </tr>\n",
       "    <tr>\n",
       "      <th>23</th>\n",
       "      <td>24</td>\n",
       "      <td>0.4067</td>\n",
       "      <td>0.418879</td>\n",
       "      <td>0.409310</td>\n",
       "      <td>0.012179</td>\n",
       "      <td>0.002610</td>\n",
       "    </tr>\n",
       "    <tr>\n",
       "      <th>24</th>\n",
       "      <td>25</td>\n",
       "      <td>0.4226</td>\n",
       "      <td>0.436332</td>\n",
       "      <td>0.424425</td>\n",
       "      <td>0.013732</td>\n",
       "      <td>0.001825</td>\n",
       "    </tr>\n",
       "    <tr>\n",
       "      <th>25</th>\n",
       "      <td>26</td>\n",
       "      <td>0.4384</td>\n",
       "      <td>0.453786</td>\n",
       "      <td>0.439540</td>\n",
       "      <td>0.015386</td>\n",
       "      <td>0.001140</td>\n",
       "    </tr>\n",
       "    <tr>\n",
       "      <th>26</th>\n",
       "      <td>27</td>\n",
       "      <td>0.4540</td>\n",
       "      <td>0.471239</td>\n",
       "      <td>0.454655</td>\n",
       "      <td>0.017239</td>\n",
       "      <td>0.000655</td>\n",
       "    </tr>\n",
       "    <tr>\n",
       "      <th>27</th>\n",
       "      <td>28</td>\n",
       "      <td>0.4695</td>\n",
       "      <td>0.488692</td>\n",
       "      <td>0.469770</td>\n",
       "      <td>0.019192</td>\n",
       "      <td>0.000270</td>\n",
       "    </tr>\n",
       "    <tr>\n",
       "      <th>28</th>\n",
       "      <td>29</td>\n",
       "      <td>0.4848</td>\n",
       "      <td>0.506145</td>\n",
       "      <td>0.484885</td>\n",
       "      <td>0.021345</td>\n",
       "      <td>0.000085</td>\n",
       "    </tr>\n",
       "    <tr>\n",
       "      <th>29</th>\n",
       "      <td>30</td>\n",
       "      <td>0.5000</td>\n",
       "      <td>0.523599</td>\n",
       "      <td>0.500000</td>\n",
       "      <td>0.023599</td>\n",
       "      <td>0.000000</td>\n",
       "    </tr>\n",
       "  </tbody>\n",
       "</table>\n",
       "</div>"
      ],
      "text/plain": [
       "    Угол     Sin  experience_1  experience_2  difference_1  difference_2\n",
       "0      1  0.0175      0.017453      0.061665     -0.000047      0.044165\n",
       "1      2  0.0349      0.034907      0.076780      0.000007      0.041880\n",
       "2      3  0.0523      0.052360      0.091895      0.000060      0.039595\n",
       "3      4  0.0698      0.069813      0.107010      0.000013      0.037210\n",
       "4      5  0.0872      0.087266      0.122125      0.000066      0.034925\n",
       "5      6  0.1045      0.104720      0.137240      0.000220      0.032740\n",
       "6      7  0.1219      0.122173      0.152355      0.000273      0.030455\n",
       "7      8  0.1392      0.139626      0.167470      0.000426      0.028270\n",
       "8      9  0.1564      0.157080      0.182585      0.000680      0.026185\n",
       "9     10  0.1736      0.174533      0.197700      0.000933      0.024100\n",
       "10    11  0.1908      0.191986      0.212815      0.001186      0.022015\n",
       "11    12  0.2079      0.209440      0.227930      0.001540      0.020030\n",
       "12    13  0.2250      0.226893      0.243045      0.001893      0.018045\n",
       "13    14  0.2419      0.244346      0.258160      0.002446      0.016260\n",
       "14    15  0.2588      0.261799      0.273275      0.002999      0.014475\n",
       "15    16  0.2756      0.279253      0.288390      0.003653      0.012790\n",
       "16    17  0.2924      0.296706      0.303505      0.004306      0.011105\n",
       "17    18  0.3090      0.314159      0.318620      0.005159      0.009620\n",
       "18    19  0.3256      0.331613      0.333735      0.006013      0.008135\n",
       "19    20  0.3420      0.349066      0.348850      0.007066      0.006850\n",
       "20    21  0.3584      0.366519      0.363965      0.008119      0.005565\n",
       "21    22  0.3746      0.383972      0.379080      0.009372      0.004480\n",
       "22    23  0.3907      0.401426      0.394195      0.010726      0.003495\n",
       "23    24  0.4067      0.418879      0.409310      0.012179      0.002610\n",
       "24    25  0.4226      0.436332      0.424425      0.013732      0.001825\n",
       "25    26  0.4384      0.453786      0.439540      0.015386      0.001140\n",
       "26    27  0.4540      0.471239      0.454655      0.017239      0.000655\n",
       "27    28  0.4695      0.488692      0.469770      0.019192      0.000270\n",
       "28    29  0.4848      0.506145      0.484885      0.021345      0.000085\n",
       "29    30  0.5000      0.523599      0.500000      0.023599      0.000000"
      ]
     },
     "execution_count": 41,
     "metadata": {},
     "output_type": "execute_result"
    }
   ],
   "source": [
    "data[\"experience_1\"] = data_sin_1\n",
    "data[\"experience_2\"] = data_sin_2\n",
    "data[\"difference_1\"] = data[\"experience_1\"] - data[\"Sin\"]\n",
    "data[\"difference_2\"] = data[\"experience_2\"] - data[\"Sin\"]\n",
    "data"
   ]
  },
  {
   "cell_type": "markdown",
   "metadata": {},
   "source": [
    "Посмотрим на сколько каждая из привязок отличается от значений Брадиса "
   ]
  },
  {
   "cell_type": "code",
   "execution_count": 42,
   "metadata": {
    "scrolled": true
   },
   "outputs": [
    {
     "data": {
      "text/plain": [
       "<matplotlib.axes._subplots.AxesSubplot at 0xa54e1c8>"
      ]
     },
     "execution_count": 42,
     "metadata": {},
     "output_type": "execute_result"
    },
    {
     "data": {
      "image/png": "[encoded data removed]",
      "text/plain": [
       "<Figure size 432x288 with 1 Axes>"
      ]
     },
     "metadata": {
      "needs_background": "light"
     },
     "output_type": "display_data"
    }
   ],
   "source": [
    "data[\"difference_1\"].plot()\n",
    "data[\"difference_2\"].plot()"
   ]
  },
  {
   "cell_type": "markdown",
   "metadata": {},
   "source": [
    "Мы видим, что в значении 19 градусов значения этих привязок равны. Следовательно до 19 градусов целесообразно использовать в качестве $x_0\\,0$, а начиная с 19 градусов - $\\frac{\\pi}{6}$. "
   ]
  },
  {
   "cell_type": "code",
   "execution_count": 43,
   "metadata": {},
   "outputs": [],
   "source": [
    "data = pd.read_csv('sin.csv', delimiter=' ')"
   ]
  },
  {
   "cell_type": "code",
   "execution_count": 44,
   "metadata": {},
   "outputs": [
    {
     "data": {
      "text/plain": [
       "[0.017453292519943295,\n",
       " 0.03490658503988659,\n",
       " 0.05235987755982988,\n",
       " 0.06981317007977318,\n",
       " 0.08726646259971647,\n",
       " 0.10471975511965977,\n",
       " 0.12217304763960307,\n",
       " 0.13962634015954636,\n",
       " 0.15707963267948966,\n",
       " 0.17453292519943295,\n",
       " 0.19198621771937624,\n",
       " 0.20943951023931953,\n",
       " 0.22689280275926285,\n",
       " 0.24434609527920614,\n",
       " 0.2617993877991494,\n",
       " 0.2792526803190927,\n",
       " 0.29670597283903605,\n",
       " 0.3141592653589793,\n",
       " 0.3316125578789226,\n",
       " 0.3488500529804819,\n",
       " 0.36396504768243365,\n",
       " 0.3790800423843855,\n",
       " 0.3941950370863373,\n",
       " 0.4093100317882891,\n",
       " 0.42442502649024094,\n",
       " 0.43954002119219276,\n",
       " 0.45465501589414453,\n",
       " 0.46977001059609635,\n",
       " 0.4848850052980482,\n",
       " 0.5]"
      ]
     },
     "execution_count": 44,
     "metadata": {},
     "output_type": "execute_result"
    }
   ],
   "source": [
    "data_sin = []\n",
    "for a in range (1, 31):\n",
    "    if a<=19:\n",
    "        data_sin.append(a*math.pi/180)\n",
    "    else:\n",
    "        data_sin.append(0.5 - (3**(1/2))/2*(30-a)*math.pi/180)\n",
    "\n",
    "data_sin"
   ]
  },
  {
   "cell_type": "markdown",
   "metadata": {},
   "source": [
    "Посмтрим, какую погрешность мы в итоге имеен на участке от $0\\, до \\, 30^o$"
   ]
  },
  {
   "cell_type": "code",
   "execution_count": 45,
   "metadata": {},
   "outputs": [
    {
     "data": {
      "text/html": [
       "<div>\n",
       "<style scoped>\n",
       "    .dataframe tbody tr th:only-of-type {\n",
       "        vertical-align: middle;\n",
       "    }\n",
       "\n",
       "    .dataframe tbody tr th {\n",
       "        vertical-align: top;\n",
       "    }\n",
       "\n",
       "    .dataframe thead th {\n",
       "        text-align: right;\n",
       "    }\n",
       "</style>\n",
       "<table border=\"1\" class=\"dataframe\">\n",
       "  <thead>\n",
       "    <tr style=\"text-align: right;\">\n",
       "      <th></th>\n",
       "      <th>Угол</th>\n",
       "      <th>Sin</th>\n",
       "      <th>experience</th>\n",
       "      <th>difference</th>\n",
       "    </tr>\n",
       "  </thead>\n",
       "  <tbody>\n",
       "    <tr>\n",
       "      <th>0</th>\n",
       "      <td>1</td>\n",
       "      <td>0.0175</td>\n",
       "      <td>0.017453</td>\n",
       "      <td>-0.000047</td>\n",
       "    </tr>\n",
       "    <tr>\n",
       "      <th>1</th>\n",
       "      <td>2</td>\n",
       "      <td>0.0349</td>\n",
       "      <td>0.034907</td>\n",
       "      <td>0.000007</td>\n",
       "    </tr>\n",
       "    <tr>\n",
       "      <th>2</th>\n",
       "      <td>3</td>\n",
       "      <td>0.0523</td>\n",
       "      <td>0.052360</td>\n",
       "      <td>0.000060</td>\n",
       "    </tr>\n",
       "    <tr>\n",
       "      <th>3</th>\n",
       "      <td>4</td>\n",
       "      <td>0.0698</td>\n",
       "      <td>0.069813</td>\n",
       "      <td>0.000013</td>\n",
       "    </tr>\n",
       "    <tr>\n",
       "      <th>4</th>\n",
       "      <td>5</td>\n",
       "      <td>0.0872</td>\n",
       "      <td>0.087266</td>\n",
       "      <td>0.000066</td>\n",
       "    </tr>\n",
       "    <tr>\n",
       "      <th>5</th>\n",
       "      <td>6</td>\n",
       "      <td>0.1045</td>\n",
       "      <td>0.104720</td>\n",
       "      <td>0.000220</td>\n",
       "    </tr>\n",
       "    <tr>\n",
       "      <th>6</th>\n",
       "      <td>7</td>\n",
       "      <td>0.1219</td>\n",
       "      <td>0.122173</td>\n",
       "      <td>0.000273</td>\n",
       "    </tr>\n",
       "    <tr>\n",
       "      <th>7</th>\n",
       "      <td>8</td>\n",
       "      <td>0.1392</td>\n",
       "      <td>0.139626</td>\n",
       "      <td>0.000426</td>\n",
       "    </tr>\n",
       "    <tr>\n",
       "      <th>8</th>\n",
       "      <td>9</td>\n",
       "      <td>0.1564</td>\n",
       "      <td>0.157080</td>\n",
       "      <td>0.000680</td>\n",
       "    </tr>\n",
       "    <tr>\n",
       "      <th>9</th>\n",
       "      <td>10</td>\n",
       "      <td>0.1736</td>\n",
       "      <td>0.174533</td>\n",
       "      <td>0.000933</td>\n",
       "    </tr>\n",
       "    <tr>\n",
       "      <th>10</th>\n",
       "      <td>11</td>\n",
       "      <td>0.1908</td>\n",
       "      <td>0.191986</td>\n",
       "      <td>0.001186</td>\n",
       "    </tr>\n",
       "    <tr>\n",
       "      <th>11</th>\n",
       "      <td>12</td>\n",
       "      <td>0.2079</td>\n",
       "      <td>0.209440</td>\n",
       "      <td>0.001540</td>\n",
       "    </tr>\n",
       "    <tr>\n",
       "      <th>12</th>\n",
       "      <td>13</td>\n",
       "      <td>0.2250</td>\n",
       "      <td>0.226893</td>\n",
       "      <td>0.001893</td>\n",
       "    </tr>\n",
       "    <tr>\n",
       "      <th>13</th>\n",
       "      <td>14</td>\n",
       "      <td>0.2419</td>\n",
       "      <td>0.244346</td>\n",
       "      <td>0.002446</td>\n",
       "    </tr>\n",
       "    <tr>\n",
       "      <th>14</th>\n",
       "      <td>15</td>\n",
       "      <td>0.2588</td>\n",
       "      <td>0.261799</td>\n",
       "      <td>0.002999</td>\n",
       "    </tr>\n",
       "    <tr>\n",
       "      <th>15</th>\n",
       "      <td>16</td>\n",
       "      <td>0.2756</td>\n",
       "      <td>0.279253</td>\n",
       "      <td>0.003653</td>\n",
       "    </tr>\n",
       "    <tr>\n",
       "      <th>16</th>\n",
       "      <td>17</td>\n",
       "      <td>0.2924</td>\n",
       "      <td>0.296706</td>\n",
       "      <td>0.004306</td>\n",
       "    </tr>\n",
       "    <tr>\n",
       "      <th>17</th>\n",
       "      <td>18</td>\n",
       "      <td>0.3090</td>\n",
       "      <td>0.314159</td>\n",
       "      <td>0.005159</td>\n",
       "    </tr>\n",
       "    <tr>\n",
       "      <th>18</th>\n",
       "      <td>19</td>\n",
       "      <td>0.3256</td>\n",
       "      <td>0.331613</td>\n",
       "      <td>0.006013</td>\n",
       "    </tr>\n",
       "    <tr>\n",
       "      <th>19</th>\n",
       "      <td>20</td>\n",
       "      <td>0.3420</td>\n",
       "      <td>0.348850</td>\n",
       "      <td>0.006850</td>\n",
       "    </tr>\n",
       "    <tr>\n",
       "      <th>20</th>\n",
       "      <td>21</td>\n",
       "      <td>0.3584</td>\n",
       "      <td>0.363965</td>\n",
       "      <td>0.005565</td>\n",
       "    </tr>\n",
       "    <tr>\n",
       "      <th>21</th>\n",
       "      <td>22</td>\n",
       "      <td>0.3746</td>\n",
       "      <td>0.379080</td>\n",
       "      <td>0.004480</td>\n",
       "    </tr>\n",
       "    <tr>\n",
       "      <th>22</th>\n",
       "      <td>23</td>\n",
       "      <td>0.3907</td>\n",
       "      <td>0.394195</td>\n",
       "      <td>0.003495</td>\n",
       "    </tr>\n",
       "    <tr>\n",
       "      <th>23</th>\n",
       "      <td>24</td>\n",
       "      <td>0.4067</td>\n",
       "      <td>0.409310</td>\n",
       "      <td>0.002610</td>\n",
       "    </tr>\n",
       "    <tr>\n",
       "      <th>24</th>\n",
       "      <td>25</td>\n",
       "      <td>0.4226</td>\n",
       "      <td>0.424425</td>\n",
       "      <td>0.001825</td>\n",
       "    </tr>\n",
       "    <tr>\n",
       "      <th>25</th>\n",
       "      <td>26</td>\n",
       "      <td>0.4384</td>\n",
       "      <td>0.439540</td>\n",
       "      <td>0.001140</td>\n",
       "    </tr>\n",
       "    <tr>\n",
       "      <th>26</th>\n",
       "      <td>27</td>\n",
       "      <td>0.4540</td>\n",
       "      <td>0.454655</td>\n",
       "      <td>0.000655</td>\n",
       "    </tr>\n",
       "    <tr>\n",
       "      <th>27</th>\n",
       "      <td>28</td>\n",
       "      <td>0.4695</td>\n",
       "      <td>0.469770</td>\n",
       "      <td>0.000270</td>\n",
       "    </tr>\n",
       "    <tr>\n",
       "      <th>28</th>\n",
       "      <td>29</td>\n",
       "      <td>0.4848</td>\n",
       "      <td>0.484885</td>\n",
       "      <td>0.000085</td>\n",
       "    </tr>\n",
       "    <tr>\n",
       "      <th>29</th>\n",
       "      <td>30</td>\n",
       "      <td>0.5000</td>\n",
       "      <td>0.500000</td>\n",
       "      <td>0.000000</td>\n",
       "    </tr>\n",
       "  </tbody>\n",
       "</table>\n",
       "</div>"
      ],
      "text/plain": [
       "    Угол     Sin  experience  difference\n",
       "0      1  0.0175    0.017453   -0.000047\n",
       "1      2  0.0349    0.034907    0.000007\n",
       "2      3  0.0523    0.052360    0.000060\n",
       "3      4  0.0698    0.069813    0.000013\n",
       "4      5  0.0872    0.087266    0.000066\n",
       "5      6  0.1045    0.104720    0.000220\n",
       "6      7  0.1219    0.122173    0.000273\n",
       "7      8  0.1392    0.139626    0.000426\n",
       "8      9  0.1564    0.157080    0.000680\n",
       "9     10  0.1736    0.174533    0.000933\n",
       "10    11  0.1908    0.191986    0.001186\n",
       "11    12  0.2079    0.209440    0.001540\n",
       "12    13  0.2250    0.226893    0.001893\n",
       "13    14  0.2419    0.244346    0.002446\n",
       "14    15  0.2588    0.261799    0.002999\n",
       "15    16  0.2756    0.279253    0.003653\n",
       "16    17  0.2924    0.296706    0.004306\n",
       "17    18  0.3090    0.314159    0.005159\n",
       "18    19  0.3256    0.331613    0.006013\n",
       "19    20  0.3420    0.348850    0.006850\n",
       "20    21  0.3584    0.363965    0.005565\n",
       "21    22  0.3746    0.379080    0.004480\n",
       "22    23  0.3907    0.394195    0.003495\n",
       "23    24  0.4067    0.409310    0.002610\n",
       "24    25  0.4226    0.424425    0.001825\n",
       "25    26  0.4384    0.439540    0.001140\n",
       "26    27  0.4540    0.454655    0.000655\n",
       "27    28  0.4695    0.469770    0.000270\n",
       "28    29  0.4848    0.484885    0.000085\n",
       "29    30  0.5000    0.500000    0.000000"
      ]
     },
     "execution_count": 45,
     "metadata": {},
     "output_type": "execute_result"
    }
   ],
   "source": [
    "data[\"experience\"] = data_sin\n",
    "data[\"difference\"] = data[\"experience\"] - data[\"Sin\"]\n",
    "data"
   ]
  },
  {
   "cell_type": "code",
   "execution_count": 46,
   "metadata": {},
   "outputs": [
    {
     "data": {
      "text/plain": [
       "<matplotlib.axes._subplots.AxesSubplot at 0xc2e0e48>"
      ]
     },
     "execution_count": 46,
     "metadata": {},
     "output_type": "execute_result"
    },
    {
     "data": {
      "image/png": "[encoded data removed]",
      "text/plain": [
       "<Figure size 432x288 with 1 Axes>"
      ]
     },
     "metadata": {
      "needs_background": "light"
     },
     "output_type": "display_data"
    }
   ],
   "source": [
    "data[\"difference\"].plot()"
   ]
  },
  {
   "cell_type": "markdown",
   "metadata": {},
   "source": [
    "Видим, что при таком подходе ошибка в расчетах составляет не более 0,0068"
   ]
  }
 ],
 "metadata": {
  "celltoolbar": "Raw Cell Format",
  "kernelspec": {
   "display_name": "Python 3",
   "language": "python",
   "name": "python3"
  },
  "language_info": {
   "codemirror_mode": {
    "name": "ipython",
    "version": 3
   },
   "file_extension": ".py",
   "mimetype": "text/x-python",
   "name": "python",
   "nbconvert_exporter": "python",
   "pygments_lexer": "ipython3",
   "version": "3.7.4"
  }
 },
 "nbformat": 4,
 "nbformat_minor": 2
}
