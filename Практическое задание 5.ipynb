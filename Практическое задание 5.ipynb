{
 "cells": [
  {
   "cell_type": "markdown",
   "metadata": {
    "id": "aU5YNMH9kVqP"
   },
   "source": [
    "## Практическое задание 5"
   ]
  },
  {
   "cell_type": "code",
   "execution_count": 1,
   "metadata": {},
   "outputs": [],
   "source": [
    "from sympy import *\n",
    "import math\n",
    "import pandas as pd\n",
    "init_printing()"
   ]
  },
  {
   "cell_type": "markdown",
   "metadata": {
    "id": "SmdURZ_OkVqQ"
   },
   "source": [
    "__1.__ Найти производную $y'_{x}$ функции:\n",
    "\n",
    "### $$\\mbox{arctg}(\\frac{y}{x})=\\ln \\sqrt{x^2+y^2}$$\n",
    "### $$\\mbox{arctg}(\\frac{y}{x})-\\ln \\sqrt{x^2+y^2}=0$$\n",
    "### Используем формулу $$y'=-\\frac {F'_{х}}{F'_{y}}$$\n",
    "$$F'_{х}=\\Bigl(\\mbox{arctg}(\\frac{y}{x})\\Bigl)'-\\Bigl(\\ln \\sqrt{x^2+y^2}\\Bigl)'=\\frac1{1+\\frac{y^2}{x^2}}\\cdot\\Bigl(\\frac{y}{x}\\Bigl)'-\\frac1{\\sqrt{x^2+y^2}}\\cdot\\Bigl(\\sqrt{x^2+y^2}\\Bigl)'=\\frac1{1+\\frac{y^2}{x^2}}\\cdot\\frac{y'\\cdot{x}-y\\cdot{x'}}{x^2}-\\frac1{\\sqrt{x^2+y^2}}\\cdot\\frac1{2\\cdot\\sqrt{x^2+y^2}}\\cdot2x=\\frac1{1+\\frac{y^2}{x^2}}\\cdot\\Bigl(-\\frac{y}{x^2}\\Bigl)-\\frac1{2\\cdot(x^2+y^2)}\\cdot2x=-\\frac{y}{x^2+y^2}-\\frac{x}{x^2+y^2}=-\\frac{y-x}{x^2+y^2}$$\n",
    "\n",
    "$$F'_{у}=\\Bigl(\\mbox{arctg}(\\frac{y}{x})\\Bigl)'-\\Bigl(\\ln \\sqrt{x^2+y^2}\\Bigl)'=\\frac1{1+\\frac{y^2}{x^2}}\\cdot\\Bigl(\\frac{y}{x}\\Bigl)'-\\frac1{\\sqrt{x^2+y^2}}\\cdot\\Bigl(\\sqrt{x^2+y^2}\\Bigl)'=\\frac1{1+\\frac{y^2}{x^2}}\\cdot\\frac{y'\\cdot{x}-y\\cdot{x'}}{x^2}-\\frac1{\\sqrt{x^2+y^2}}\\cdot\\frac1{2\\cdot\\sqrt{x^2+y^2}}\\cdot2y=\\frac1{1+\\frac{y^2}{x^2}}\\cdot\\Bigl(\\frac{1}{x}\\Bigl)-\\frac1{2\\cdot(x^2+y^2)}\\cdot2y=\\frac{x}{x^2+y^2}-\\frac{y}{x^2+y^2}=\\frac{x-y}{x^2+y^2}$$\n",
    "\n",
    "$$y'=-\\frac {F'_{х}}{F'_{y}}=-\\Bigl(\\frac{\\frac{-y-x}{x^2+y^2}}{\\frac{x-y}{x^2+y^2}}\\Bigl)=-\\Bigl({\\frac{-y-x}{x^2+y^2}}\\cdot{\\frac{x^2+y^2}{x-y}}\\Bigl)=-\\Bigl({\\frac{-y-x}{x-y}}\\Bigl)=\\frac{x+y}{x-y}$$\n",
    "### Проверим"
   ]
  },
  {
   "cell_type": "code",
   "execution_count": 2,
   "metadata": {},
   "outputs": [
    {
     "data": {
      "image/png": "[encoded data removed]",
      "text/latex": [
       "$\\displaystyle - \\log{\\left(\\sqrt{x^{2} + y^{2}} \\right)} + \\operatorname{atan}{\\left(\\frac{y}{x} \\right)}$"
      ],
      "text/plain": [
       "     ⎛   _________⎞          \n",
       "     ⎜  ╱  2    2 ⎟       ⎛y⎞\n",
       "- log⎝╲╱  x  + y  ⎠ + atan⎜─⎟\n",
       "                          ⎝x⎠"
      ]
     },
     "execution_count": 2,
     "metadata": {},
     "output_type": "execute_result"
    }
   ],
   "source": [
    "x,y=symbols('x y')\n",
    "f=atan(y/x)-ln(sqrt(x**2+y**2))\n",
    "f"
   ]
  },
  {
   "cell_type": "code",
   "execution_count": 3,
   "metadata": {
    "scrolled": false
   },
   "outputs": [
    {
     "data": {
      "image/png": "[encoded data removed]",
      "text/latex": [
       "$\\displaystyle \\frac{\\frac{x}{x^{2} + y^{2}} + \\frac{y}{x^{2} \\left(1 + \\frac{y^{2}}{x^{2}}\\right)}}{- \\frac{y}{x^{2} + y^{2}} + \\frac{1}{x \\left(1 + \\frac{y^{2}}{x^{2}}\\right)}}$"
      ],
      "text/plain": [
       "   x           y      \n",
       "─────── + ─────────── \n",
       " 2    2      ⎛     2⎞ \n",
       "x  + y     2 ⎜    y ⎟ \n",
       "          x ⋅⎜1 + ──⎟ \n",
       "             ⎜     2⎟ \n",
       "             ⎝    x ⎠ \n",
       "──────────────────────\n",
       "     y          1     \n",
       "- ─────── + ──────────\n",
       "   2    2     ⎛     2⎞\n",
       "  x  + y      ⎜    y ⎟\n",
       "            x⋅⎜1 + ──⎟\n",
       "              ⎜     2⎟\n",
       "              ⎝    x ⎠"
      ]
     },
     "execution_count": 3,
     "metadata": {},
     "output_type": "execute_result"
    }
   ],
   "source": [
    "-diff(f,x)/diff(f,y)"
   ]
  },
  {
   "cell_type": "markdown",
   "metadata": {},
   "source": [
    "После упрощения данного выражения, мы получим выведенное нами выражение: $\\frac{x+y}{x-y}$. Следовательно производная найдена правильно."
   ]
  },
  {
   "cell_type": "markdown",
   "metadata": {
    "id": "cECfCSANkVqR"
   },
   "source": [
    "__2.__ Найти производную $y'_{x}$ функции:\n",
    "\n",
    "### \\begin{cases}\n",
    "   y=\\frac{t^2}{t-1}, \\\\\n",
    "   x=\\frac{t}{t^2-1} \n",
    " \\end{cases}\n",
    " \n",
    "  $$ y'_{t}=\\frac{(t^2)'\\cdot(t-1) - t^2\\cdot(t-1)'}{(t-1)^2}=\\frac{2t\\cdot(t-1) - t^2\\cdot 1}{(t-1)^2}=\\frac{2t^2-2t - t^2}{(t-1)^2}=\\frac{t^2-2t }{(t-1)^2}\\\\  \n",
    "  x'_{t}= \\frac{t'\\cdot(t^2-1)-t\\cdot(t^2-1)'}{(t^2-1)^2}=\\frac{1\\cdot(t^2-1)-t\\cdot2t}{(t^2-1)^2}=\\frac{t^2-1-2t^2}{(t^2-1)^2}=\\frac{-t^2-1}{(t^2-1)^2}\\\\\n",
    "  y'_{x}=\\frac{\\frac{t^2-2t}{(t-1)^2}}{\\frac{-t^2-1}{(t^2-1)^2}}=\\frac{t^2-2t}{(t-1)^2}\\cdot{\\frac{(t^2-1)^2}{-t^2-1}}=\\frac{t^2-2t}{(t-1)(t-1)}\\cdot{\\frac{(t-1)(t+1)(t-1)(t+1)}{-t^2-1}}={\\frac{(t^2-2t)\\cdot(t+1)^2}{-t^2-1}}={\\frac{(t^2-2t)\\cdot(t^2+2t+1)}{-t^2-1}}={\\frac{t^4+2t^3+t^2-2t^3-4t^2-2t}{-t^2-1}}=\\frac{t^4-3t^2-2t}{-t^2-1}\n",
    "  $$\n",
    "### Проверим"
   ]
  },
  {
   "cell_type": "code",
   "execution_count": 4,
   "metadata": {
    "id": "bLYmpf6qG9dW",
    "outputId": "d07c9b5d-c4ae-44e3-9690-d19fb67a5e9e"
   },
   "outputs": [
    {
     "data": {
      "image/png": "[encoded data removed]",
      "text/latex": [
       "$\\displaystyle \\frac{t^{2}}{t - 1}$"
      ],
      "text/plain": [
       "   2 \n",
       "  t  \n",
       "─────\n",
       "t - 1"
      ]
     },
     "execution_count": 4,
     "metadata": {},
     "output_type": "execute_result"
    }
   ],
   "source": [
    "t=Symbol('t')\n",
    "y=t**2/(t-1)\n",
    "y"
   ]
  },
  {
   "cell_type": "code",
   "execution_count": 5,
   "metadata": {
    "id": "GOEXYgixG9dX",
    "outputId": "4822e48f-c9ba-4768-8381-395dd14c7208"
   },
   "outputs": [
    {
     "data": {
      "image/png": "[encoded data removed]",
      "text/latex": [
       "$\\displaystyle \\frac{t}{t^{2} - 1}$"
      ],
      "text/plain": [
       "  t   \n",
       "──────\n",
       " 2    \n",
       "t  - 1"
      ]
     },
     "execution_count": 5,
     "metadata": {},
     "output_type": "execute_result"
    }
   ],
   "source": [
    "x=t/(t**2-1)\n",
    "x"
   ]
  },
  {
   "cell_type": "code",
   "execution_count": 6,
   "metadata": {
    "id": "oIEe6x7OG9dZ",
    "outputId": "9d540745-8ef0-40d6-9e91-aae5b3fad514"
   },
   "outputs": [
    {
     "data": {
      "image/png": "[encoded data removed]",
      "text/latex": [
       "$\\displaystyle \\frac{- \\frac{t^{2}}{\\left(t - 1\\right)^{2}} + \\frac{2 t}{t - 1}}{- \\frac{2 t^{2}}{\\left(t^{2} - 1\\right)^{2}} + \\frac{1}{t^{2} - 1}}$"
      ],
      "text/plain": [
       "       2            \n",
       "      t        2⋅t  \n",
       " - ──────── + ───── \n",
       "          2   t - 1 \n",
       "   (t - 1)          \n",
       "────────────────────\n",
       "        2           \n",
       "     2⋅t        1   \n",
       "- ───────── + ──────\n",
       "          2    2    \n",
       "  ⎛ 2    ⎞    t  - 1\n",
       "  ⎝t  - 1⎠          "
      ]
     },
     "execution_count": 6,
     "metadata": {},
     "output_type": "execute_result"
    }
   ],
   "source": [
    "diff(y,t)/diff(x,t)"
   ]
  },
  {
   "cell_type": "markdown",
   "metadata": {},
   "source": [
    "После упрощения данного выражения, мы получим выведенное нами выражение: $\\frac{t^4-3t^2-2t}{-t^2-1}$. Следовательно производная найдена правильно."
   ]
  },
  {
   "cell_type": "markdown",
   "metadata": {
    "id": "DFrjdtbHkVqS"
   },
   "source": [
    "__3.__ Найти производную с помощью логарифмирования:\n",
    "\n",
    "### $$y=(x^2+2)^5\\cdot(3x-x^3)^3$$\n",
    "### $$y'=(x^2+2)^5\\cdot(3x-x^3)^3\\cdot(\\ln((x^2+2)^5\\cdot(3x-x^3)^3))'=(x^2+2)^5\\cdot(3x-x^3)^3\\cdot((\\ln(x^2+2)^5)'+(\\ln(3x-x^3)^3)')=(x^2+2)^5\\cdot(3x-x^3)^3\\cdot\\Bigl(\\frac{10x}{x^2+2}+\\frac{9-9x^2}{3x-x^3}\\Bigl)=(x^2+2)^5\\cdot(3x-x^3)^3\\cdot\\Bigl(\\frac{10x(3x-x^3)+(9-9x^2)(x^2+2)}{(x^2+2)\\cdot(3x-x^3)}\\Bigl)=(x^2+2)^4\\cdot(3x-x^3)^2\\cdot(10x(3x-x^3)+(9-9x^2)(x^2+2))=10x(x^2+2)^4\\cdot(3x-x^3)^3+(9-9x^2)(x^2+2)^5(3x-x^3)^2$$\n",
    "### Проверим"
   ]
  },
  {
   "cell_type": "code",
   "execution_count": 7,
   "metadata": {
    "id": "JqboOYEJG9df",
    "outputId": "503a963c-87f4-4239-d950-d623f867c82e"
   },
   "outputs": [
    {
     "data": {
      "image/png": "[encoded data removed]",
      "text/latex": [
       "$\\displaystyle \\left(x^{2} + 2\\right)^{5} \\left(- x^{3} + 3 x\\right)^{3}$"
      ],
      "text/plain": [
       "        5             3\n",
       "⎛ 2    ⎞  ⎛   3      ⎞ \n",
       "⎝x  + 2⎠ ⋅⎝- x  + 3⋅x⎠ "
      ]
     },
     "execution_count": 7,
     "metadata": {},
     "output_type": "execute_result"
    }
   ],
   "source": [
    "x=Symbol('x')\n",
    "y=(x**2+2)**5*(3*x-x**3)**3\n",
    "y"
   ]
  },
  {
   "cell_type": "code",
   "execution_count": 8,
   "metadata": {
    "id": "igaJsQsQG9df",
    "outputId": "7c96844c-3a20-44bd-c726-1deab23fa448",
    "scrolled": false
   },
   "outputs": [
    {
     "data": {
      "image/png": "[encoded data removed]",
      "text/latex": [
       "$\\displaystyle 10 x \\left(x^{2} + 2\\right)^{4} \\left(- x^{3} + 3 x\\right)^{3} + \\left(9 - 9 x^{2}\\right) \\left(x^{2} + 2\\right)^{5} \\left(- x^{3} + 3 x\\right)^{2}$"
      ],
      "text/plain": [
       "             4             3                      5             2\n",
       "     ⎛ 2    ⎞  ⎛   3      ⎞    ⎛       2⎞ ⎛ 2    ⎞  ⎛   3      ⎞ \n",
       "10⋅x⋅⎝x  + 2⎠ ⋅⎝- x  + 3⋅x⎠  + ⎝9 - 9⋅x ⎠⋅⎝x  + 2⎠ ⋅⎝- x  + 3⋅x⎠ "
      ]
     },
     "execution_count": 8,
     "metadata": {},
     "output_type": "execute_result"
    }
   ],
   "source": [
    "diff(y,x)"
   ]
  },
  {
   "cell_type": "markdown",
   "metadata": {},
   "source": [
    "Видим, что производная найдена првильно."
   ]
  },
  {
   "cell_type": "markdown",
   "metadata": {
    "id": "5la-eVLukVqT"
   },
   "source": [
    "__4.__ Найти производную функции с помощью логарифмирования:\n",
    "\n",
    "### $$y=x^x$$\n",
    "### $$y'=x^x\\cdot(\\ln x^x)'=x^x\\cdot(x\\ln x)'=x^x\\cdot((x)'\\ln x)+x(\\ln x)'=x^x\\cdot(1\\cdot\\ln x+x\\cdot\\frac1x)=x^x\\cdot(\\ln x+1)$$\n",
    "### Проверим"
   ]
  },
  {
   "cell_type": "code",
   "execution_count": 9,
   "metadata": {
    "id": "JqboOYEJG9df",
    "outputId": "503a963c-87f4-4239-d950-d623f867c82e"
   },
   "outputs": [
    {
     "data": {
      "image/png": "[encoded data removed]",
      "text/latex": [
       "$\\displaystyle x^{x}$"
      ],
      "text/plain": [
       " x\n",
       "x "
      ]
     },
     "execution_count": 9,
     "metadata": {},
     "output_type": "execute_result"
    }
   ],
   "source": [
    "x=Symbol('x')\n",
    "y=x**x\n",
    "y"
   ]
  },
  {
   "cell_type": "code",
   "execution_count": 10,
   "metadata": {
    "id": "igaJsQsQG9df",
    "outputId": "7c96844c-3a20-44bd-c726-1deab23fa448",
    "scrolled": false
   },
   "outputs": [
    {
     "data": {
      "image/png": "[encoded data removed]",
      "text/latex": [
       "$\\displaystyle x^{x} \\left(\\log{\\left(x \\right)} + 1\\right)$"
      ],
      "text/plain": [
       " x             \n",
       "x ⋅(log(x) + 1)"
      ]
     },
     "execution_count": 10,
     "metadata": {},
     "output_type": "execute_result"
    }
   ],
   "source": [
    "diff(y,x)"
   ]
  },
  {
   "cell_type": "markdown",
   "metadata": {},
   "source": [
    "Видим, что производная найдена првильно."
   ]
  },
  {
   "cell_type": "markdown",
   "metadata": {
    "id": "kQlell_GkVqU"
   },
   "source": [
    "__5.__ Найти производную функции с помощью логарифмирования:\n",
    "\n",
    "### $$y=\\frac{(2-x^2)^3\\cdot(x-1)^2}{(2x^3-3x)\\cdot e^x}$$\n",
    "### $$y'=\\frac{(2-x^2)^3\\cdot(x-1)^2}{(2x^3-3x)\\cdot e^x}\\cdot((\\ln((2-x^2)^3))'+(\\ln((x-1)^2))'-(\\ln((2x^3-3x)))'-(\\ln(e^x))')=\\frac{(2-x^2)^3\\cdot(x-1)^2}{(2x^3-3x)\\cdot e^x}\\cdot\\Bigl(\\frac{-6x}{2-x^2}+\\frac{2}{x-1}-\\frac{6x^2+3}{2x^3-3x}-x\\Bigl)$$\n",
    "\n",
    "Можно упрощать дальше, но это не особо улучшит ситуацию.\n",
    "### Проверим"
   ]
  },
  {
   "cell_type": "code",
   "execution_count": 11,
   "metadata": {
    "id": "JqboOYEJG9df",
    "outputId": "503a963c-87f4-4239-d950-d623f867c82e"
   },
   "outputs": [
    {
     "data": {
      "image/png": "[encoded data removed]",
      "text/latex": [
       "$\\displaystyle \\frac{\\left(2 - x^{2}\\right)^{3} \\left(x - 1\\right)^{2} e^{- x}}{2 x^{3} - 3 x}$"
      ],
      "text/plain": [
       "        3             \n",
       "⎛     2⎞         2  -x\n",
       "⎝2 - x ⎠ ⋅(x - 1) ⋅ℯ  \n",
       "──────────────────────\n",
       "         3            \n",
       "      2⋅x  - 3⋅x      "
      ]
     },
     "execution_count": 11,
     "metadata": {},
     "output_type": "execute_result"
    }
   ],
   "source": [
    "x=Symbol('x')\n",
    "y=(((2-x**2)**3)*((x-1)**2))/((2*x**3-3*x)*(exp(x)))\n",
    "y"
   ]
  },
  {
   "cell_type": "code",
   "execution_count": 12,
   "metadata": {
    "id": "igaJsQsQG9df",
    "outputId": "7c96844c-3a20-44bd-c726-1deab23fa448",
    "scrolled": false
   },
   "outputs": [
    {
     "data": {
      "image/png": "[encoded data removed]",
      "text/latex": [
       "$\\displaystyle - \\frac{6 x \\left(2 - x^{2}\\right)^{2} \\left(x - 1\\right)^{2} e^{- x}}{2 x^{3} - 3 x} + \\frac{\\left(2 - x^{2}\\right)^{3} \\left(3 - 6 x^{2}\\right) \\left(x - 1\\right)^{2} e^{- x}}{\\left(2 x^{3} - 3 x\\right)^{2}} - \\frac{\\left(2 - x^{2}\\right)^{3} \\left(x - 1\\right)^{2} e^{- x}}{2 x^{3} - 3 x} + \\frac{\\left(2 - x^{2}\\right)^{3} \\left(2 x - 2\\right) e^{- x}}{2 x^{3} - 3 x}$"
      ],
      "text/plain": [
       "              2                        3                                   3  \n",
       "      ⎛     2⎞         2  -x   ⎛     2⎞  ⎛       2⎞        2  -x   ⎛     2⎞   \n",
       "  6⋅x⋅⎝2 - x ⎠ ⋅(x - 1) ⋅ℯ     ⎝2 - x ⎠ ⋅⎝3 - 6⋅x ⎠⋅(x - 1) ⋅ℯ     ⎝2 - x ⎠ ⋅(\n",
       "- ────────────────────────── + ───────────────────────────────── - ───────────\n",
       "             3                                       2                      3 \n",
       "          2⋅x  - 3⋅x                     ⎛   3      ⎞                    2⋅x  \n",
       "                                         ⎝2⋅x  - 3⋅x⎠                         \n",
       "\n",
       "                      3              \n",
       "      2  -x   ⎛     2⎞             -x\n",
       "x - 1) ⋅ℯ     ⎝2 - x ⎠ ⋅(2⋅x - 2)⋅ℯ  \n",
       "─────────── + ───────────────────────\n",
       "                        3            \n",
       "- 3⋅x                2⋅x  - 3⋅x      \n",
       "                                     "
      ]
     },
     "execution_count": 12,
     "metadata": {},
     "output_type": "execute_result"
    }
   ],
   "source": [
    "diff(y,x)"
   ]
  },
  {
   "cell_type": "markdown",
   "metadata": {},
   "source": [
    "Если бы мы продолжили упрощение нашего выражения, то получили это вырвжение. Следовательно производная найдена правильно."
   ]
  },
  {
   "cell_type": "markdown",
   "metadata": {
    "id": "tR20Nh4AG9d4"
   },
   "source": [
    "__6*.__ Вывести табличное значение производной для функции\n",
    "\n",
    "### $$\\mbox{arctg}(x)$$\n",
    "### $$y=\\mbox{arctg}(x)$$\n",
    "### $$y'_{x}=\\frac{1}{x'_{y}}=\\frac{1}{(\\tan y)'_{y}}=\\cos^2y=\\frac{1}{1+\\tan^2 y}=\\frac{1}{1+\\tan^2\n",
    "(\\mbox{arctg}(x))}=\\frac{1}{1+x^2}$$\n",
    "### Проврим"
   ]
  },
  {
   "cell_type": "code",
   "execution_count": 13,
   "metadata": {},
   "outputs": [
    {
     "data": {
      "image/png": "[encoded data removed]",
      "text/latex": [
       "$\\displaystyle \\operatorname{atan}{\\left(x \\right)}$"
      ],
      "text/plain": [
       "atan(x)"
      ]
     },
     "execution_count": 13,
     "metadata": {},
     "output_type": "execute_result"
    }
   ],
   "source": [
    "x=symbols('x')\n",
    "f=atan(x)\n",
    "f"
   ]
  },
  {
   "cell_type": "code",
   "execution_count": 14,
   "metadata": {
    "scrolled": true
   },
   "outputs": [
    {
     "data": {
      "image/png": "[encoded data removed]",
      "text/latex": [
       "$\\displaystyle \\frac{1}{x^{2} + 1}$"
      ],
      "text/plain": [
       "  1   \n",
       "──────\n",
       " 2    \n",
       "x  + 1"
      ]
     },
     "execution_count": 14,
     "metadata": {},
     "output_type": "execute_result"
    }
   ],
   "source": [
    "diff(f,x)"
   ]
  },
  {
   "cell_type": "markdown",
   "metadata": {},
   "source": [
    "Видим, что производная найдена верно."
   ]
  },
  {
   "cell_type": "markdown",
   "metadata": {
    "id": "yx_QOvyGG9d5"
   },
   "source": [
    "__7.__ Найти длину $𝑥$ и ширину $𝑦$ прямоугольника при заданном периметре $𝑃=144$ cм, при которых данный прямоугольник имеет наибольшую площадь $𝑆$.  \n",
    "Площадь прямоугольника равна $S=x\\cdot y$. Выразим x через у, используя периметр.\n",
    "$$P=2x+2y$$\n",
    "$$x=72-y$$\n",
    "Тогда площадь равна $P=y\\cdot(72-y)=72y\\cdot y^2$  \n",
    "Чтобы найти наибольшую площадь, найдем производную и с помощью нее найдем максимум функции.  \n",
    "$$P'=(72y\\cdot y^2)'=72-2y$$\n",
    "$$72-2y=0$$\n",
    "$$y=31$$\n",
    "$$x=72-31=31$$  \n",
    "#### Ответ: Прямоугольник с периметром 144 см. имеет наибольшую площадь при длинне сторон 31 и 31 см. Т.е наибольшую площадь имеет квадрат."
   ]
  },
  {
   "cell_type": "markdown",
   "metadata": {
    "id": "Qpa7Z6rbG9d5"
   },
   "source": [
    "__8*.__ Завод $A$ отстоит от железной дороги, идущей с юга на север и проходящей через $B$, считая по кратчайшему расстоянию на $a$ км. Под каким углом $\\alpha$ к железной дороге следует ппостроить подъезной  путь от завода, чтобы транспортировка грузов из $A$ в $B$ была наиболее экономичной, если стоимость провоза тонны груза на расстоянии $1$ км составляет: по подъезному пути $p$ рублей, по железной дороге $q$ рублей $(p>q)$ и город $B$ расположен на $b$ км севернее завода $A$.\n",
    "\n",
    "<img src=\"https://i.ibb.co/JqYq8QS/shema.png\"  width = 300/>\n",
    "\n",
    "### Пусть:    \n",
    "### $AC$ - длинна подъездного пути  \n",
    "### $CB$ - длинна пути по ЖД. Обозначим ее за $x$  \n",
    "### Тогда стоимость ($P$) провоза груза будет равна $P=p\\cdot AC+q\\cdot CB$  \n",
    "### Если $AC=\\sqrt{a^2+(b-x)^2}$, то $P=p\\cdot\\sqrt{a^2+(b-x)^2}+q\\cdot x$   \n",
    "### Найдем производную $P$ по $x$\n",
    "### $$P'=(p\\cdot\\sqrt{a^2+(b-x)^2})'+(q\\cdot x)'=p\\cdot\\frac{-2b+2x}{2\\sqrt{a^2+(b-x)^2}}+q=\\frac{p(x-b)}{\\sqrt{a^2+(b-x)^2}}+q=-p(b-x)+q\\sqrt{a^2+(b-x)^2}$$\n",
    "### Прираняем проиpводную к $0$ и найдем точки экстремума  \n",
    "### $$-p(b-x)+q\\sqrt{a^2+(b-x)^2}=0$$\n",
    "### $$q\\sqrt{a^2+(b-x)^2}=p(b-x)$$\n",
    "### $$q^2(a^2+(b-x)^2)=p^2(b-x)^2$$\n",
    "### $$q^2a^2+q^2(b-x)^2=p^2(b-x)^2$$\n",
    "### $$\\frac{q^2a^2}{(b-x)^2}=p^2-q^2$$\n",
    "### $$b-x=\\sqrt{\\frac{q^2a^2}{p^2-q^2}}$$\n",
    "### $$x=b-\\sqrt{\\frac{q^2a^2}{p^2-q^2}}$$  \n",
    "### Получается что, $CD=\\sqrt{\\frac{q^2a^2}{p^2-q^2}}$ \n",
    "### И как итог $\\tan\\alpha=\\frac{AD}{CВ}=\\frac{a}{\\sqrt{\\frac{q^2a^2}{p^2-q^2}}}=a{\\frac{\\sqrt{p^2-q^2}}{\\sqrt{q^2a^2}}}=\\frac{\\sqrt{p^2-q^2}}{q}$"
   ]
  }
 ],
 "metadata": {
  "kernelspec": {
   "display_name": "Python 3",
   "language": "python",
   "name": "python3"
  },
  "language_info": {
   "codemirror_mode": {
    "name": "ipython",
    "version": 3
   },
   "file_extension": ".py",
   "mimetype": "text/x-python",
   "name": "python",
   "nbconvert_exporter": "python",
   "pygments_lexer": "ipython3",
   "version": "3.7.4"
  }
 },
 "nbformat": 4,
 "nbformat_minor": 2
}
