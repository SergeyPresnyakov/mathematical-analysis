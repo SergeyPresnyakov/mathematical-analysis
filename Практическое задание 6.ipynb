{
 "cells": [
  {
   "cell_type": "markdown",
   "metadata": {
    "id": "aU5YNMH9kVqP"
   },
   "source": [
    "## Практическое задание 6"
   ]
  },
  {
   "cell_type": "code",
   "execution_count": 1,
   "metadata": {},
   "outputs": [],
   "source": [
    "from sympy import *\n",
    "import math\n",
    "import pandas as pd\n",
    "init_printing()\n",
    "import numpy as np"
   ]
  },
  {
   "cell_type": "markdown",
   "metadata": {
    "id": "SmdURZ_OkVqQ"
   },
   "source": [
    "__1.__ Найти частные производные первого и второго порядка. Убедиться в равенстве смешанных производных.\n",
    "\n",
    "### $$U=x^3+3xy^2+z^2-39x-36y+2z+26$$\n",
    "### $$U'_{x}=3x^2+3y^2-39$$\n",
    "### $$U''_{xx}=6x$$\n",
    "### $$U''_{xy}=6y$$\n",
    "### $$U''_{xz}=0$$\n",
    "\n",
    "### $$U'_{y}=6xy-36$$\n",
    "### $$U''_{yx}=6y$$\n",
    "### $$U''_{yy}=6x$$\n",
    "### $$U''_{yz}=0$$\n",
    "\n",
    "### $$U'_{z}=2z+2$$\n",
    "### $$U''_{zx}=20$$\n",
    "### $$U''_{zy}=0$$\n",
    "### $$U''_{zz}=2$$\n",
    "\n",
    "##### Видим, что смешанные производны попарно равны\n",
    "### Проверим"
   ]
  },
  {
   "cell_type": "code",
   "execution_count": 2,
   "metadata": {},
   "outputs": [
    {
     "data": {
      "image/png": "[encoded data removed]",
      "text/latex": [
       "$\\displaystyle x^{3} + 3 x y^{2} - 39 x - 36 y + z^{2} + 2 z + 26$"
      ],
      "text/plain": [
       " 3        2                  2           \n",
       "x  + 3⋅x⋅y  - 39⋅x - 36⋅y + z  + 2⋅z + 26"
      ]
     },
     "execution_count": 2,
     "metadata": {},
     "output_type": "execute_result"
    }
   ],
   "source": [
    "x,y,z=symbols('x y z')\n",
    "f=x**3+3*x*y**2+z**2-39*x-36*y+2*z+26\n",
    "f"
   ]
  },
  {
   "cell_type": "code",
   "execution_count": 3,
   "metadata": {
    "scrolled": false
   },
   "outputs": [
    {
     "name": "stdout",
     "output_type": "stream",
     "text": [
      "Производная первого порядка по x:  3*x**2 + 3*y**2 - 39\n",
      "Производная второго порядка по xx:  6*x\n",
      "Производная второго порядка по xy:  6*y\n",
      "Производная второго порядка по xz:  0\n",
      "\n",
      "Производная первого порядка по y:  6*x*y - 36\n",
      "Производная второго порядка по yx:  6*y\n",
      "Производная второго порядка по yy:  6*x\n",
      "Производная второго порядка по yz:  0\n",
      "\n",
      "Производная первого порядка по z:  2*z + 2\n",
      "Производная второго порядка по zx:  0\n",
      "Производная второго порядка по zy:  0\n",
      "Производная второго порядка по zz:  2\n",
      "\n"
     ]
    }
   ],
   "source": [
    "for i in(x, y, z):\n",
    "    print(f\"Производная первого порядка по {i}: \", diff(f,i))\n",
    "    for j in(x, y, z):\n",
    "        print(f\"Производная второго порядка по {i}{j}: \", diff(diff(f,i),j))\n",
    "    print()"
   ]
  },
  {
   "cell_type": "markdown",
   "metadata": {},
   "source": [
    "##### Видим, что частные производные первого и второго порядка найдены верно"
   ]
  },
  {
   "cell_type": "markdown",
   "metadata": {
    "id": "cECfCSANkVqR"
   },
   "source": [
    "__2.__ Найти частные производные первого и второго порядка. Убедиться в равенстве смешанных производных.\n",
    "\n",
    "### $$U=\\frac{256}{x}+\\frac{x^2}{y}+\\frac{y^2}{z}+z^2$$\n",
    "\n",
    "### $$U'_{x}=-\\frac{256}{x^2}+\\frac{2x}{y}$$\n",
    "### $$U''_{xx}=\\frac{512}{x^3}+\\frac{2}{y}$$\n",
    "### $$U''_{xy}=-\\frac{2x}{y^2}$$\n",
    "### $$U''_{xz}=0$$\n",
    "\n",
    "### $$U'_{y}=-\\frac{x^2}{y^2}+\\frac{2y}{z}$$\n",
    "### $$U''_{yx}=-\\frac{2x}{y^2}$$\n",
    "### $$U''_{yy}=\\frac{2x^2}{y^3}+\\frac{2}{z}$$\n",
    "### $$U''_{yz}=-\\frac{2y}{z^2}$$\n",
    "\n",
    "### $$U'_{z}=-\\frac{y^2}{z^2}+2z$$\n",
    "### $$U''_{zx}=0$$\n",
    "### $$U''_{zy}=-\\frac{2y}{z^2}$$\n",
    "### $$U''_{zz}=\\frac{2y^2}{z^3}+2$$\n",
    "\n",
    "##### Видим, что смешанные производны попарно равны\n",
    "### Проверим"
   ]
  },
  {
   "cell_type": "code",
   "execution_count": 4,
   "metadata": {},
   "outputs": [
    {
     "data": {
      "image/png": "[encoded data removed]",
      "text/latex": [
       "$\\displaystyle \\frac{x^{2}}{y} + \\frac{y^{2}}{z} + z^{2} + \\frac{256}{x}$"
      ],
      "text/plain": [
       " 2    2           \n",
       "x    y     2   256\n",
       "── + ── + z  + ───\n",
       "y    z          x "
      ]
     },
     "execution_count": 4,
     "metadata": {},
     "output_type": "execute_result"
    }
   ],
   "source": [
    "x,y,z=symbols('x y z')\n",
    "f=256/x+x**2/y+y**2/z+z**2\n",
    "f"
   ]
  },
  {
   "cell_type": "code",
   "execution_count": 5,
   "metadata": {
    "scrolled": false
   },
   "outputs": [
    {
     "name": "stdout",
     "output_type": "stream",
     "text": [
      "Производная первого порядка по x:  2*x/y - 256/x**2\n",
      "Производная второго порядка по xx:  2/y + 512/x**3\n",
      "Производная второго порядка по xy:  -2*x/y**2\n",
      "Производная второго порядка по xz:  0\n",
      "\n",
      "Производная первого порядка по y:  -x**2/y**2 + 2*y/z\n",
      "Производная второго порядка по yx:  -2*x/y**2\n",
      "Производная второго порядка по yy:  2*x**2/y**3 + 2/z\n",
      "Производная второго порядка по yz:  -2*y/z**2\n",
      "\n",
      "Производная первого порядка по z:  -y**2/z**2 + 2*z\n",
      "Производная второго порядка по zx:  0\n",
      "Производная второго порядка по zy:  -2*y/z**2\n",
      "Производная второго порядка по zz:  2*y**2/z**3 + 2\n",
      "\n"
     ]
    }
   ],
   "source": [
    "for i in(x, y, z):\n",
    "    print(f\"Производная первого порядка по {i}: \", diff(f,i))\n",
    "    for j in(x, y, z):\n",
    "        print(f\"Производная второго порядка по {i}{j}: \", diff(diff(f,i),j))\n",
    "    print()"
   ]
  },
  {
   "cell_type": "markdown",
   "metadata": {},
   "source": [
    "##### Видим, что частные производные первого и второго порядка найдены верно"
   ]
  },
  {
   "cell_type": "markdown",
   "metadata": {
    "id": "DFrjdtbHkVqS"
   },
   "source": [
    "__3.__ Найти производную функции $U=x^2+y^2+z^2$ по направлению вектора $\\overrightarrow{c}(-9,8,-12)$ в точке $M(8,-12,9)$\n",
    "\n",
    "__Для нахождения производной по направлению нам необходимо знать:__\n",
    "\n",
    "- единичный направляющий вектор,\n",
    "\n",
    "- значение градиента в точке $M$.\n",
    "\n",
    "Найдем длину вектора $\\overrightarrow{c}$\n",
    "\n",
    "### $$|\\overrightarrow{с}|=\\sqrt{x^2_{0}+y^2_{0}+z^2_{0}}=\\sqrt{(-9)^2+8^2(-12)^2}=\\sqrt{289}=17$$\n",
    "Теперь сделаем единичный вектор\n",
    "\n",
    "\n",
    "### $$\\overrightarrow{с_{0}}=\\frac{\\overrightarrow{с}}{|\\overrightarrow{с}|}=\\Bigr(\\frac{-9}{17},\\frac{8}{17}, \\frac{-12}{17}\\Bigl)$$\n",
    "Теперь найдем градиент.\n",
    "\n",
    "### $$U'_{x}=2x$$\n",
    "\n",
    "### $$U'_{y}=2y$$\n",
    "\n",
    "### $$U'_{z}=2z$$\n",
    "\n",
    "Тогда градиент нашей функции в точке $M(8,-12,9)$ равен:\n",
    "\n",
    "### $$\\mbox{grad}U=(16,-24,18)$$\n",
    "\n",
    "Осталось посчитать скалярное произведение. Т.к. координаты в нашем случае известны, то достаточно перемножить координаты и сложить результат.\n",
    "\n",
    "### $$U'_{\\overrightarrow{с}}=\\frac{-9}{17}\\cdot16+\\frac{8}{17}\\cdot{-24}+\\frac{-12}{17}\\cdot18=-\\frac{144}{17}-\\frac{192}{17}-\\frac{216}{17}=\\frac{552}{17}-32\\frac{8}{17}$$"
   ]
  },
  {
   "cell_type": "markdown",
   "metadata": {
    "id": "5la-eVLukVqT"
   },
   "source": [
    "__4.__ Найти производную функции $U=e^{x^2+y^2+z^2}$ по направлению вектора $\\overrightarrow{c}(4,-13,-16)$ в точке $L(-16,4,-13)$\n",
    "\n",
    "__Для нахождения производной по направлению нам необходимо знать:__\n",
    "\n",
    "- единичный направляющий вектор,\n",
    "- значение градиента в точке $L$.\n",
    "\n",
    "\n",
    "Найдем длину вектора $\\overrightarrow{c}$\n",
    "\n",
    "### $$|\\overrightarrow{с}|=\\sqrt{x^2_{0}+y^2_{0}+z^2_{0}}=\\sqrt{(4)^2+(-13)^2+(-16)^2}=\\sqrt{441}=21$$\n",
    "Теперь сделаем единичный вектор\n",
    "\n",
    "\n",
    "### $$\\overrightarrow{с_{0}}=\\frac{\\overrightarrow{с}}{|\\overrightarrow{с}|}=\\Bigr(\\frac{4}{21},-\\frac{13}{21},-\\frac{16}{21}\\Bigl)$$\n",
    "Теперь найдем градиент.\n",
    "\n",
    "### $$U'_{x}=2x\\cdot e^{x^2+y^2+z^2}$$\n",
    "\n",
    "### $$U'_{y}=2y\\cdot e^{x^2+y^2+z^2}$$\n",
    "\n",
    "### $$U'_{z}=2z\\cdot e^{x^2+y^2+z^2}$$\n",
    "\n",
    "Тогда градиент нашей функции в точке $L(-16,4,-13)$ равен:\n",
    "\n",
    "### $$\\mbox{grad}U=(-32e^{441},8e^{441},-26e^{441})$$\n",
    "\n",
    "Осталось посчитать скалярное произведение. Т.к. координаты в нашем случае известны, то достаточно перемножить координаты и сложить результат.\n",
    "\n",
    "### $$U'_{\\overrightarrow{с}}=-\\frac{4}{21}\\cdot32e^{441}-\\frac{13}{21}\\cdot8e^{441}+\\frac{16}{21}\\cdot26e^{441}=-\\frac{128e^{441}}{21}-\\frac{104e^{441}}{21}+\\frac{416e^{441}}{21}=\\frac{184e^{441}}{21}$$"
   ]
  },
  {
   "cell_type": "markdown",
   "metadata": {
    "id": "kQlell_GkVqU"
   },
   "source": [
    "__5*.__ Найти производную функции $U=\\log_{21}(x^2+y^2+z^2)$ в точке $F(-19,8,-4)$ по самому быстрому направлению.\n",
    "\n",
    "__Для нахождения производной по направлению нам необходимо знать:__\n",
    "\n",
    "- единичный направляющий вектор,\n",
    "- значение градиента в точке $L$.\n",
    "\n",
    "В данном случае самое быстрое направление изменения функции это и будет направление градиента. Градиент и будет направляющим вектором. Найдем его в точке F(-19,8,-4).\n",
    "\n",
    "Теперь найдем градиент.\n",
    "\n",
    "### $$U'_{x}=\\frac{2x}{\\ln{21}\\cdot (x^2+y^2+z^2)}$$\n",
    "\n",
    "### $$U'_{y}=\\frac{2y}{\\ln{21}\\cdot (x^2+y^2+z^2)}$$\n",
    "\n",
    "### $$U'_{z}=\\frac{2z}{\\ln{21}\\cdot (x^2+y^2+z^2)}$$\n",
    "\n",
    "Тогда градиент нашей функции в точке $F(-19,8,-4)$ будет описываться вектором:\n",
    "\n",
    "### $$\\mbox{grad}U=(-\\frac{38}{441\\cdot\\ln21},\\frac{16}{441\\cdot\\ln21},-\\frac{8}{441\\cdot\\ln21})$$\n",
    "\n",
    "Найдем его длинну\n",
    "### $$|\\mbox{grad}U|=\\sqrt{\\Bigl(-\\frac{38}{441\\cdot\\ln21}\\Bigl)^2 +\\Bigl(\\frac{16}{441\\cdot\\ln21}\\Bigl)^2 +\\Bigl(-\\frac{8}{441\\cdot\\ln21}\\Bigl)^2}=\\sqrt{\\frac{38^2}{(441\\cdot\\ln21)^2} +\\frac{16^2}{(441\\cdot\\ln21)^2}+\\frac{8^2}{(441\\cdot\\ln21)^2}}=\\frac{\\sqrt{1764}}{441\\cdot\\ln21}=\\frac{42}{441\\cdot\\ln21}$$\n",
    "\n",
    "\n",
    "Теперь сделаем единичный вектор\n",
    "### $$\\mbox{grad}U_{0}=\\frac{\\mbox{grad}U}{|\\mbox{grad}U|}=\\Bigl(-\\frac{38}{42},\\frac{16}{42},-\\frac{8}{42}\\Bigl)$$\n",
    "\n",
    "\n",
    "Осталось посчитать скалярное произведение. Т.к. координаты в нашем случае известны, то достаточно перемножить координаты и сложить результат.\n",
    "\n",
    "### $$U'_{\\mbox{grad}U}=\\Bigl({\\frac{38}{42}\\cdot\\frac{38}{441\\cdot\\ln21}}+{\\frac{16}{42}\\cdot\\frac{16}{441\\cdot\\ln21}}+{\\frac{8}{42}\\cdot\\frac{8}{441\\cdot\\ln21}}\\Bigl)=\\frac{1764}{18522\\cdot\\ln21}=\\frac{882\\cdot2}{882\\cdot21\\cdot\\ln21}=\\frac{2}{21\\cdot\\ln21}$$\n",
    "\n",
    "### Видим, что значение производной по самому быстрому направлению совпадает с длинной направляющего вектора. Тоже самое было и на вебинаре. Это наверное и есть тот более простой способ определения этой производной :)"
   ]
  },
  {
   "cell_type": "markdown",
   "metadata": {
    "id": "jHbjlGkyFpEE"
   },
   "source": [
    "__6.__ Исследовать на экстремум функцию:\n",
    "\n",
    "### $$U=x^2y+\\frac{1}{3}y^3+2x^2+3y^2-1$$\n",
    "\n",
    "\n",
    "Найдем частные производные, приравняем их к нулю и найдем стационарные точки:\n",
    "\n",
    "### $$\\begin{cases}\n",
    "   U'_{x}=2xy+4x=0, \\\\\n",
    "   U'_{y}=x^2+y^2+6y=0 \n",
    " \\end{cases}$$\n",
    " \n",
    "При использовании сервиса wolframalpha удалось найти следующие корни данной системы:\n",
    "### $x_1=0,\\, y_1=-6$\n",
    "### $x_2=0,\\, y_2=0$\n",
    "### $x_3=-2 \\sqrt 2,\\, y_3=-2$\n",
    "### $x_4=2 \\sqrt 2,\\, y_4=-2$\n",
    "\n",
    " \n",
    "Теперь найдем вторые производные и составим матрицу Гёссе в общем виде:\n",
    " \n",
    "### $$U''_{xx}=2y+4$$ $$U''_{xy}=U''_{yx}=2x$$ $$U''_{yy}=2y+6$$\n",
    "\n",
    "Видно, что все 4 значения матрицы завиясят от переменных\n",
    "\n",
    "###  $$\\begin{pmatrix}\n",
    "2y+4 & 2x\\\\ \n",
    "2x & 2y+6\\\\\n",
    "\\end{pmatrix}$$\n",
    "\n",
    "теперь можно вычислить главные миноры \n",
    "\n",
    "### $$\\Delta_{1}=U''_{xx}=2y+4$$\n",
    "\n",
    "### $$\\Delta_{2}=\\begin{vmatrix}\n",
    "U''_{xx} & U''_{xy}\\\\ \n",
    "U''_{yx} & U''_{yy}\\\\\n",
    "\\end{vmatrix}=U''_{xx}\\cdot U''_{yy}-(U''_{xy})^2=4y^2+20y+24-4x^2$$\n",
    "\n",
    "Осталось проверить знаки миноров для каждой точки. "
   ]
  },
  {
   "cell_type": "code",
   "execution_count": 6,
   "metadata": {
    "scrolled": false
   },
   "outputs": [
    {
     "name": "stdout",
     "output_type": "stream",
     "text": [
      "minor_1 = -8 ,minor_2 = 48\n",
      "Стационарная точка 'Точка 1' с координатами (0, -6) является максимумом\n",
      "\n",
      "minor_1 = 4 ,minor_2 = 24\n",
      "Стационарная точка 'Точка 2' с координатами (0, 0) является минимумом\n",
      "\n",
      "minor_1 = 0 ,minor_2 = -32\n",
      "Экстремум для точки 'Точка 3' с координатами (-2*sqrt(2), -2) с помощью теории матрицы Гессе найти не возможно\n",
      "\n",
      "minor_1 = 0 ,minor_2 = -32\n",
      "Экстремум для точки 'Точка 4' с координатами (2*sqrt(2), -2) с помощью теории матрицы Гессе найти не возможно\n",
      "\n"
     ]
    }
   ],
   "source": [
    "roots = pd.DataFrame([\n",
    "    [\"Точка 1\", 0, -6],\n",
    "    [\"Точка 2\", 0, 0],\n",
    "    [\"Точка 3\", -2*sqrt(2), -2],\n",
    "    [\"Точка 4\", 2*sqrt(2), -2]\n",
    "])\n",
    "for r in range(len(roots)):\n",
    "    minor_1 = 2*roots.loc[r][2]+4\n",
    "    minor_2 = 4*(roots.loc[r][2]**2)+20*roots.loc[r][2]+24-4*(roots.loc[r][1]**2)\n",
    "    print(\"minor_1 =\",minor_1, \",\" \"minor_2 =\",minor_2)\n",
    "    if minor_1 > 0 and minor_2 > 0:\n",
    "        print(f\"Стационарная точка '{roots.loc[r][0]}' с координатами {roots.loc[r][1], roots.loc[r][2]} является минимумом\")\n",
    "    elif minor_1 < 0 and minor_2 > 0:\n",
    "        print(f\"Стационарная точка '{roots.loc[r][0]}' с координатами {roots.loc[r][1], roots.loc[r][2]} является максимумом\")\n",
    "    elif minor_1 == 0 or minor_2 == 0:\n",
    "        print(f\"Экстремум для точки '{roots.loc[r][0]}' с координатами {roots.loc[r][1], roots.loc[r][2]} с помощью теории матрицы Гессе найти не возможно\")\n",
    "    else:\n",
    "        print(f\"Стационарная точка '{roots.loc[r][0]}' с координатами {roots.loc[r][1], roots.loc[r][2]} является седловой\")\n",
    "    print()"
   ]
  },
  {
   "cell_type": "markdown",
   "metadata": {},
   "source": [
    "Построим график"
   ]
  },
  {
   "cell_type": "code",
   "execution_count": 7,
   "metadata": {
    "id": "dQ5PEr2MFpD1",
    "outputId": "c16ac0e1-6dba-47b4-babc-4a7a83928564"
   },
   "outputs": [
    {
     "data": {
      "text/plain": [
       "<Figure size 1000x1000 with 1 Axes>"
      ]
     },
     "metadata": {},
     "output_type": "display_data"
    }
   ],
   "source": [
    "import pylab\n",
    "from mpl_toolkits.mplot3d import Axes3D\n",
    "import numpy\n",
    "\n",
    "def makeData ():\n",
    "    x = numpy.arange (-10, 10, 0.01)\n",
    "    y = numpy.arange (-10, 10, 0.01)\n",
    "    xgrid, ygrid = numpy.meshgrid(x, y)\n",
    "\n",
    "    Ugrid = xgrid**2*y+1/3*ygrid**3+2*xgrid**2+3*ygrid**2-1\n",
    "    return xgrid, ygrid, Ugrid\n",
    "\n",
    "x, y, U = makeData()\n",
    "\n",
    "fig = pylab.figure(figsize=(10, 10))\n",
    "axes = Axes3D(fig)\n",
    "# axes.view_init(10, 0)\n",
    "\n",
    "axes.plot_surface(x, y, U)\n",
    "\n",
    "pylab.show()"
   ]
  },
  {
   "cell_type": "markdown",
   "metadata": {
    "id": "fVcYbSbqFpEF"
   },
   "source": [
    "__7*.__ Исследовать на экстремум функцию:\n",
    "\n",
    "### $$U=e^{-\\frac{x}{2}}\\cdot(x^2+y^2)$$\n",
    "\n",
    "\n",
    "Найдем частные производные, приравняем их к нулю и найдем стационарные точки:\n",
    "\n",
    "### $$U'=(e^{-\\frac{x}{2}})'\\cdot(x^2+y^2)+e^{-\\frac{x}{2}}\\cdot(x^2+y^2)'$$\n",
    "\n",
    "### $$\\begin{cases}\n",
    "   U'_{x}=2xe^{-\\frac{x}{2}}-\\frac{e^{-\\frac{x}{2}}\\cdot(x^2+y^2)}{2} \\\\\n",
    "   U'_{y}=2ye^{-\\frac{x}{2}}=0 \n",
    " \\end{cases}$$\n",
    " \n",
    "При использовании сервиса wolframalpha удалось найти следующие корни данной системы:\n",
    "### $x_1=0,\\, y_1=0$\n",
    "### $x_2=4,\\, y_2=0$\n",
    " \n",
    "Теперь найдем вторые производные и составим матрицу Гёссе в общем виде:\n",
    " \n",
    "### $$U''_{xx}=2e^{-\\frac{x}{2}}-2xe^{-\\frac{x}{2}}-\\frac{e^{-\\frac{x}{2}}\\cdot(-\\frac{x^2}{2}-\\frac{y^2}{2})}{2}$$ $$U''_{xy}=U''_{yx}=-ye^{-\\frac{x}{2}}$$  $$U''_{yy}=2e^{-\\frac{x}{2}}$$\n",
    "\n",
    "Видно, что все 4 значения матрицы завиясят от переменных\n",
    "\n",
    "###  $$\\begin{pmatrix}\n",
    "2e^{-\\frac{x}{2}}-2xe^{-\\frac{x}{2}}-\\frac{e^{-\\frac{x}{2}}\\cdot(-\\frac{x^2}{2}-\\frac{y^2}{2})}{2} & -ye^{-\\frac{x}{2}}\\\\ \n",
    "-ye^{-\\frac{x}{2}} & 2e^{-\\frac{x}{2}}\\\\\n",
    "\\end{pmatrix}$$\n",
    "\n",
    "теперь можно вычислить главные миноры \n",
    "\n",
    "### $$\\Delta_{1}=U''_{xx}=2e^{-\\frac{x}{2}}-2xe^{-\\frac{x}{2}}-\\frac{e^{-\\frac{x}{2}}\\cdot(-\\frac{x^2}{2}-\\frac{y^2}{2})}{2}$$\n",
    "\n",
    "### $$\\Delta_{2}=\\begin{vmatrix}\n",
    "U''_{xx} & U''_{xy}\\\\ \n",
    "U''_{yx} & U''_{yy}\\\\\n",
    "\\end{vmatrix}=U''_{xx}\\cdot U''_{yy}-(U''_{xy})^2=\\Bigl((2e^{-\\frac{x}{2}}-2xe^{-\\frac{x}{2}}-\\frac{e^{-\\frac{x}{2}}\\cdot(-\\frac{x^2}{2}-\\frac{y^2}{2})}{2}\\Bigl)\\cdot(2e^{-\\frac{x}{2}})-(-ye^{-\\frac{x}{2}})^2$$\n",
    "\n",
    "Осталось проверить знаки миноров для каждой точки. "
   ]
  },
  {
   "cell_type": "code",
   "execution_count": 8,
   "metadata": {
    "scrolled": true
   },
   "outputs": [
    {
     "name": "stdout",
     "output_type": "stream",
     "text": [
      "minor_1 = 2.00000000000000 ,minor_2 = 4.00000000000000\n",
      "Стационарная точка 'Точка 1' с координатами (0, 0) является минимумом\n",
      "\n",
      "minor_1 = -0.270670566473225 ,minor_2 = -0.0732625555549367\n",
      "Стационарная точка 'Точка 2' с координатами (4, 0) является седловой\n",
      "\n"
     ]
    }
   ],
   "source": [
    "roots = pd.DataFrame([\n",
    "    [\"Точка 1\", 0, 0],\n",
    "    [\"Точка 2\", 4, 0]\n",
    "])\n",
    "\n",
    "for r in range(len(roots)):\n",
    "    x = roots.loc[r][1]\n",
    "    y = roots.loc[r][2]\n",
    "    minor_1 = 2*exp(-x/2)-2*x*exp(-x/2)-(exp(-x/2)*(-x**2/2-y**2/2))/2\n",
    "    minor_2 = minor_1*2*exp(-x/2)-(y*exp(-x/2))**2\n",
    "    print(\"minor_1 =\",minor_1, \",\" \"minor_2 =\",minor_2)\n",
    "    if minor_1 > 0 and minor_2 > 0:\n",
    "        print(f\"Стационарная точка '{roots.loc[r][0]}' с координатами {roots.loc[r][1], roots.loc[r][2]} является минимумом\")\n",
    "    elif minor_1 < 0 and minor_2 > 0:\n",
    "        print(f\"Стационарная точка '{roots.loc[r][0]}' с координатами {roots.loc[r][1], roots.loc[r][2]} является максимумом\")\n",
    "    elif minor_1 == 0 or minor_2 == 0:\n",
    "        print(f\"Экстремум для точки '{roots.loc[r][0]}' с координатами {roots.loc[r][1], roots.loc[r][2]} с помощью теории матрицы Гессе найти не возможно\")\n",
    "    else:\n",
    "        print(f\"Стационарная точка '{roots.loc[r][0]}' с координатами {roots.loc[r][1], roots.loc[r][2]} является седловой\")\n",
    "    print()"
   ]
  },
  {
   "cell_type": "markdown",
   "metadata": {
    "id": "KRrGRxPwFpEF"
   },
   "source": [
    "__8**.__ С помощью метода наименьших квадратов (МНК) подобрать значения параметров $a$ и $b$ для сигмоидальной функции $$y=\\frac{1}{1+e^{-(ax+b)}}$$ \n",
    "\n",
    "по заданному распределению. Построить график.\n",
    "\n",
    "Представим уравнение в неявном виде\n",
    "### $$y-\\frac{1}{1+e^{-(ax+b)}}=0$$\n",
    "\n",
    "Найдем частные производные"
   ]
  },
  {
   "cell_type": "code",
   "execution_count": 9,
   "metadata": {
    "scrolled": true
   },
   "outputs": [
    {
     "data": {
      "image/png": "[encoded data removed]",
      "text/latex": [
       "$\\displaystyle \\left(yi - \\frac{1}{2.71828182845905^{- a \\xi - b} + 1}\\right)^{2}$"
      ],
      "text/plain": [
       "                                   2\n",
       "⎛                  1              ⎞ \n",
       "⎜yi - ────────────────────────────⎟ \n",
       "⎜                     -a⋅ξ - b    ⎟ \n",
       "⎝     2.71828182845905         + 1⎠ "
      ]
     },
     "execution_count": 9,
     "metadata": {},
     "output_type": "execute_result"
    }
   ],
   "source": [
    "xi, yi, a, b =symbols('xi yi a b')\n",
    "f=(yi-1/(1+math.e**(-a*xi-b)))**2\n",
    "f"
   ]
  },
  {
   "cell_type": "code",
   "execution_count": 10,
   "metadata": {
    "scrolled": true
   },
   "outputs": [
    {
     "name": "stdout",
     "output_type": "stream",
     "text": [
      "Производная первого порядка по x:  -2.0*2.71828182845905**(-a*xi - b)*a*(yi - 1/(2.71828182845905**(-a*xi - b) + 1))/(2.71828182845905**(-a*xi - b) + 1)**2\n"
     ]
    }
   ],
   "source": [
    "print(f\"Производная первого порядка по x: \", diff(f,xi))"
   ]
  },
  {
   "cell_type": "code",
   "execution_count": 11,
   "metadata": {},
   "outputs": [
    {
     "name": "stdout",
     "output_type": "stream",
     "text": [
      "Производная первого порядка по y:  2*yi - 2/(2.71828182845905**(-a*xi - b) + 1)\n"
     ]
    }
   ],
   "source": [
    "print(f\"Производная первого порядка по y: \", diff(f,yi))"
   ]
  },
  {
   "cell_type": "code",
   "execution_count": 12,
   "metadata": {
    "id": "L5-SrCEUFpEG",
    "outputId": "a71f373c-a452-4daf-c58d-15f815a7f746"
   },
   "outputs": [],
   "source": [
    "from matplotlib import pylab as plt\n",
    "import numpy as np\n",
    "%matplotlib inline\n",
    "from scipy.optimize import fsolve\n",
    "import math\n",
    "\n",
    "\n",
    "xi = np.random.uniform(-8, 8, 200)\n",
    "yi = 1/(1+np.exp(-np.random.uniform(0.5, 1.5, 200)*xi-np.random.uniform(-1, 1, 200)))"
   ]
  },
  {
   "cell_type": "markdown",
   "metadata": {},
   "source": [
    "Найдем коэффициенты и построим гарфики"
   ]
  },
  {
   "cell_type": "code",
   "execution_count": 21,
   "metadata": {
    "id": "L5-SrCEUFpEG",
    "outputId": "a71f373c-a452-4daf-c58d-15f815a7f746",
    "scrolled": false
   },
   "outputs": [
    {
     "name": "stdout",
     "output_type": "stream",
     "text": [
      "0.8983039614455821 0.007196287949449307\n"
     ]
    },
    {
     "data": {
      "image/png": "[encoded data removed]",
      "text/plain": [
       "<Figure size 432x432 with 1 Axes>"
      ]
     },
     "metadata": {
      "needs_background": "light"
     },
     "output_type": "display_data"
    }
   ],
   "source": [
    "plt.figure(figsize=(6,6))\n",
    "plt.axis([-8, 8, -1, 2])\n",
    "\n",
    "def equations(p):\n",
    "    a, b = p\n",
    "    # Запись систем уравнения\n",
    "    return ((-2*a*(yi - 1/(math.e**(-a*xi - b) + 1))*math.e**(-a*xi - b)/(math.e**(-a*xi - b) + 1)**2).sum(), (2*yi - 2/(math.e**(-a*xi - b) + 1)).sum())\n",
    "\n",
    "# Численное решение системы уравнений\n",
    "a, b =  fsolve(equations, (1, 1))\n",
    "print (a, b)\n",
    "\n",
    "x = np.linspace(-8, 8, 200)\n",
    "y=1/(1+2.71828182845905**(-a*x-b))\n",
    "\n",
    "plt.scatter(xi,yi, c='black')\n",
    "plt.plot(x,y, c='r')\n",
    "plt.show()"
   ]
  },
  {
   "cell_type": "code",
   "execution_count": 22,
   "metadata": {},
   "outputs": [
    {
     "name": "stdout",
     "output_type": "stream",
     "text": [
      "0.9895722674929515\n"
     ]
    }
   ],
   "source": [
    "y_=y.sum()/200\n",
    "r=np.sqrt((((yi-y_)**2).sum()-((yi-1/(1+2.71828182845905**(-a*xi-b)))**2).sum())/((yi-y_)**2).sum())\n",
    "\n",
    "print (r)"
   ]
  },
  {
   "cell_type": "code",
   "execution_count": 23,
   "metadata": {
    "scrolled": true
   },
   "outputs": [
    {
     "data": {
      "image/png": "[encoded data removed]",
      "text/latex": [
       "$\\displaystyle 0.5604560448019348$"
      ],
      "text/plain": [
       "0.5604560448019348"
      ]
     },
     "execution_count": 23,
     "metadata": {},
     "output_type": "execute_result"
    }
   ],
   "source": [
    "from sklearn.metrics import mean_squared_error\n",
    "from math import sqrt\n",
    "\n",
    "rms = sqrt(mean_squared_error(yi, y))\n",
    "rms"
   ]
  },
  {
   "cell_type": "code",
   "execution_count": 24,
   "metadata": {},
   "outputs": [
    {
     "data": {
      "image/png": "[encoded data removed]",
      "text/latex": [
       "$\\displaystyle 0.41071092583453006$"
      ],
      "text/plain": [
       "0.41071092583453006"
      ]
     },
     "execution_count": 24,
     "metadata": {},
     "output_type": "execute_result"
    }
   ],
   "source": [
    "from sklearn.metrics import mean_absolute_error\n",
    "mean_absolute_error(yi, y)"
   ]
  },
  {
   "cell_type": "code",
   "execution_count": 25,
   "metadata": {},
   "outputs": [
    {
     "name": "stdout",
     "output_type": "stream",
     "text": [
      "0.0871884495571614 0.5030273666927758\n"
     ]
    },
    {
     "data": {
      "image/png": "[encoded data removed]",
      "text/plain": [
       "<Figure size 432x288 with 1 Axes>"
      ]
     },
     "metadata": {
      "needs_background": "light"
     },
     "output_type": "display_data"
    }
   ],
   "source": [
    "xi = np.random.uniform(-8, 8, 200)\n",
    "yi = 1/(1+np.exp(-np.random.uniform(0.5, 1.5, 200)*xi-np.random.uniform(-1, 1, 200)))\n",
    "\n",
    "def equations(p):\n",
    "    k, b = p\n",
    "    # Запись системы уравнения вида x+y=2, x-y=0\n",
    "    return ((-2*xi*(yi-k*xi-b)).sum(), -2*(yi-k*xi-b).sum())\n",
    "\n",
    "# Численное решение системы уравнений\n",
    "k, b =  fsolve(equations, (0, 0))\n",
    "print (k, b)\n",
    "\n",
    "x = np.linspace(-8, 8, 200)\n",
    "y=k*x+b\n",
    "\n",
    "plt.scatter(xi,yi, c='black')\n",
    "plt.plot(x,y, c='r')\n",
    "plt.show()"
   ]
  },
  {
   "cell_type": "code",
   "execution_count": 26,
   "metadata": {
    "scrolled": true
   },
   "outputs": [
    {
     "name": "stdout",
     "output_type": "stream",
     "text": [
      "0.9789992213860433\n"
     ]
    }
   ],
   "source": [
    "y_=y.sum()/200\n",
    "r=np.sqrt((((yi-y_)**2).sum()-((yi-1/(1+2.71828182845905**(-a*xi-b)))**2).sum())/((yi-y_)**2).sum())\n",
    "\n",
    "print (r)"
   ]
  },
  {
   "cell_type": "code",
   "execution_count": 27,
   "metadata": {},
   "outputs": [
    {
     "data": {
      "image/png": "[encoded data removed]",
      "text/latex": [
       "$\\displaystyle 0.5933475468435067$"
      ],
      "text/plain": [
       "0.5933475468435067"
      ]
     },
     "execution_count": 27,
     "metadata": {},
     "output_type": "execute_result"
    }
   ],
   "source": [
    "from sklearn.metrics import mean_squared_error\n",
    "from math import sqrt\n",
    "\n",
    "rms = sqrt(mean_squared_error(yi, y))\n",
    "rms"
   ]
  },
  {
   "cell_type": "code",
   "execution_count": 28,
   "metadata": {},
   "outputs": [
    {
     "data": {
      "image/png": "[encoded data removed]",
      "text/latex": [
       "$\\displaystyle 0.4886085829396531$"
      ],
      "text/plain": [
       "0.4886085829396531"
      ]
     },
     "execution_count": 28,
     "metadata": {},
     "output_type": "execute_result"
    }
   ],
   "source": [
    "from sklearn.metrics import mean_absolute_error\n",
    "mean_absolute_error(yi, y)"
   ]
  },
  {
   "cell_type": "markdown",
   "metadata": {},
   "source": [
    "### Видим, что корреляция, среднеквадратичная ошика и средняя абсолютная ашибка  не сильно подходит для оценки качества аппроксимации в данном случае"
   ]
  }
 ],
 "metadata": {
  "kernelspec": {
   "display_name": "Python 3",
   "language": "python",
   "name": "python3"
  },
  "language_info": {
   "codemirror_mode": {
    "name": "ipython",
    "version": 3
   },
   "file_extension": ".py",
   "mimetype": "text/x-python",
   "name": "python",
   "nbconvert_exporter": "python",
   "pygments_lexer": "ipython3",
   "version": "3.7.4"
  }
 },
 "nbformat": 4,
 "nbformat_minor": 2
}
